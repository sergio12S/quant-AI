{
 "cells": [
  {
   "cell_type": "code",
   "execution_count": 1,
   "metadata": {},
   "outputs": [],
   "source": [
    "from models.architecture.rnn_net import RnnPredictCandles\n",
    "from tools.dataset import Dataset\n",
    "from models.processing.create_features import createFeatures\n",
    "from models.processing.processing_data import Transformer\n",
    "\n",
    "import numpy as np\n",
    "import pandas as pd\n",
    "import plotly.graph_objects as go"
   ]
  },
  {
   "cell_type": "code",
   "execution_count": 2,
   "metadata": {},
   "outputs": [],
   "source": [
    "dataset = Dataset().get_data(days=90, ticker='BTCUSDT', ts='1h')"
   ]
  },
  {
   "cell_type": "code",
   "execution_count": 7,
   "metadata": {},
   "outputs": [
    {
     "name": "stderr",
     "output_type": "stream",
     "text": [
      "0it [00:00, ?it/s]"
     ]
    },
    {
     "name": "stdout",
     "output_type": "stream",
     "text": [
      "[X] Ooops!!! It's True, the series 'volume' was not found in open, high, low, close\n"
     ]
    },
    {
     "name": "stderr",
     "output_type": "stream",
     "text": [
      "/home/serg/projects/onramp/quant-ai/models/processing/create_features.py:11: SettingWithCopyWarning:\n",
      "\n",
      "\n",
      "A value is trying to be set on a copy of a slice from a DataFrame.\n",
      "Try using .loc[row_indexer,col_indexer] = value instead\n",
      "\n",
      "See the caveats in the documentation: https://pandas.pydata.org/pandas-docs/stable/user_guide/indexing.html#returning-a-view-versus-a-copy\n",
      "\n",
      "39it [00:00, 69.31it/s]\n"
     ]
    }
   ],
   "source": [
    "features = createFeatures().create_features(dataset[['open', 'high', 'low', 'close']])\n",
    "cols = features.columns\n",
    "transformer = Transformer()\n",
    "X, y, indexes = transformer.transform_to_lstm_input(\n",
    "    data=features,\n",
    "    cols=cols,\n",
    "    window_size=100,\n",
    "    step_size=0,\n",
    "    ahead=12\n",
    ")"
   ]
  },
  {
   "cell_type": "code",
   "execution_count": 8,
   "metadata": {},
   "outputs": [
    {
     "name": "stdout",
     "output_type": "stream",
     "text": [
      "Epoch 1/500\n",
      "2/2 [==============================] - 6s 2s/step - loss: 0.2294 - accuracy: 0.2334 - val_loss: 0.0587 - val_accuracy: 0.1361\n",
      "Epoch 2/500\n",
      "2/2 [==============================] - 1s 430ms/step - loss: 0.1436 - accuracy: 0.2355 - val_loss: 0.0499 - val_accuracy: 0.2050\n",
      "Epoch 3/500\n",
      "2/2 [==============================] - 1s 482ms/step - loss: 0.1239 - accuracy: 0.2462 - val_loss: 0.0375 - val_accuracy: 0.2564\n",
      "Epoch 4/500\n",
      "2/2 [==============================] - 1s 465ms/step - loss: 0.0988 - accuracy: 0.2564 - val_loss: 0.0270 - val_accuracy: 0.2340\n",
      "Epoch 5/500\n",
      "2/2 [==============================] - 1s 479ms/step - loss: 0.0779 - accuracy: 0.2538 - val_loss: 0.0226 - val_accuracy: 0.2091\n",
      "Epoch 6/500\n",
      "2/2 [==============================] - 0s 400ms/step - loss: 0.0648 - accuracy: 0.2568 - val_loss: 0.0207 - val_accuracy: 0.1996\n",
      "Epoch 7/500\n",
      "2/2 [==============================] - 0s 407ms/step - loss: 0.0552 - accuracy: 0.2453 - val_loss: 0.0191 - val_accuracy: 0.1989\n",
      "Epoch 8/500\n",
      "2/2 [==============================] - 0s 432ms/step - loss: 0.0455 - accuracy: 0.2398 - val_loss: 0.0200 - val_accuracy: 0.2129\n",
      "Epoch 9/500\n",
      "2/2 [==============================] - 1s 474ms/step - loss: 0.0398 - accuracy: 0.2530 - val_loss: 0.0229 - val_accuracy: 0.2422\n",
      "Epoch 10/500\n",
      "2/2 [==============================] - 1s 440ms/step - loss: 0.0322 - accuracy: 0.2445 - val_loss: 0.0251 - val_accuracy: 0.2682\n",
      "Epoch 11/500\n",
      "2/2 [==============================] - 1s 446ms/step - loss: 0.0305 - accuracy: 0.2500 - val_loss: 0.0262 - val_accuracy: 0.2877\n",
      "Epoch 12/500\n",
      "2/2 [==============================] - 1s 465ms/step - loss: 0.0262 - accuracy: 0.2377 - val_loss: 0.0242 - val_accuracy: 0.2903\n",
      "Epoch 13/500\n",
      "2/2 [==============================] - 0s 430ms/step - loss: 0.0238 - accuracy: 0.2462 - val_loss: 0.0227 - val_accuracy: 0.2911\n",
      "Epoch 14/500\n",
      "2/2 [==============================] - 1s 448ms/step - loss: 0.0224 - accuracy: 0.2521 - val_loss: 0.0241 - val_accuracy: 0.2864\n",
      "Epoch 15/500\n",
      "2/2 [==============================] - 1s 450ms/step - loss: 0.0202 - accuracy: 0.2526 - val_loss: 0.0193 - val_accuracy: 0.2769\n",
      "Epoch 16/500\n",
      "2/2 [==============================] - 1s 437ms/step - loss: 0.0185 - accuracy: 0.2411 - val_loss: 0.0161 - val_accuracy: 0.2722\n",
      "Epoch 17/500\n",
      "2/2 [==============================] - 0s 398ms/step - loss: 0.0173 - accuracy: 0.2470 - val_loss: 0.0195 - val_accuracy: 0.2811\n",
      "Epoch 18/500\n",
      "2/2 [==============================] - 0s 403ms/step - loss: 0.0153 - accuracy: 0.2530 - val_loss: 0.0189 - val_accuracy: 0.2873\n",
      "Epoch 19/500\n",
      "2/2 [==============================] - 0s 394ms/step - loss: 0.0151 - accuracy: 0.2547 - val_loss: 0.0153 - val_accuracy: 0.2839\n",
      "Epoch 20/500\n",
      "2/2 [==============================] - 1s 480ms/step - loss: 0.0151 - accuracy: 0.2496 - val_loss: 0.0178 - val_accuracy: 0.2899\n",
      "Epoch 21/500\n",
      "2/2 [==============================] - 1s 477ms/step - loss: 0.0147 - accuracy: 0.2534 - val_loss: 0.0172 - val_accuracy: 0.2842\n",
      "Epoch 22/500\n",
      "2/2 [==============================] - 0s 417ms/step - loss: 0.0143 - accuracy: 0.2606 - val_loss: 0.0146 - val_accuracy: 0.2741\n",
      "Epoch 23/500\n",
      "2/2 [==============================] - 0s 411ms/step - loss: 0.0129 - accuracy: 0.2568 - val_loss: 0.0169 - val_accuracy: 0.2767\n",
      "Epoch 24/500\n",
      "2/2 [==============================] - 0s 432ms/step - loss: 0.0125 - accuracy: 0.2462 - val_loss: 0.0168 - val_accuracy: 0.2744\n",
      "Epoch 25/500\n",
      "2/2 [==============================] - 1s 446ms/step - loss: 0.0122 - accuracy: 0.2713 - val_loss: 0.0161 - val_accuracy: 0.2733\n",
      "Epoch 26/500\n",
      "2/2 [==============================] - 1s 430ms/step - loss: 0.0121 - accuracy: 0.2687 - val_loss: 0.0177 - val_accuracy: 0.2837\n",
      "Epoch 27/500\n",
      "2/2 [==============================] - 0s 420ms/step - loss: 0.0115 - accuracy: 0.2564 - val_loss: 0.0198 - val_accuracy: 0.2924\n",
      "Epoch 28/500\n",
      "2/2 [==============================] - 0s 420ms/step - loss: 0.0113 - accuracy: 0.2440 - val_loss: 0.0151 - val_accuracy: 0.2935\n",
      "Epoch 29/500\n",
      "2/2 [==============================] - 1s 479ms/step - loss: 0.0119 - accuracy: 0.2347 - val_loss: 0.0168 - val_accuracy: 0.2966\n",
      "Epoch 30/500\n",
      "2/2 [==============================] - 1s 460ms/step - loss: 0.0102 - accuracy: 0.2636 - val_loss: 0.0209 - val_accuracy: 0.2984\n",
      "Epoch 31/500\n",
      "2/2 [==============================] - 1s 431ms/step - loss: 0.0108 - accuracy: 0.2449 - val_loss: 0.0144 - val_accuracy: 0.2909\n",
      "Epoch 32/500\n",
      "2/2 [==============================] - 1s 439ms/step - loss: 0.0102 - accuracy: 0.2547 - val_loss: 0.0173 - val_accuracy: 0.2943\n",
      "Epoch 33/500\n",
      "2/2 [==============================] - 1s 428ms/step - loss: 0.0099 - accuracy: 0.2462 - val_loss: 0.0205 - val_accuracy: 0.2988\n",
      "Epoch 34/500\n",
      "2/2 [==============================] - 1s 451ms/step - loss: 0.0097 - accuracy: 0.2572 - val_loss: 0.0137 - val_accuracy: 0.2937\n",
      "Epoch 35/500\n",
      "2/2 [==============================] - 0s 417ms/step - loss: 0.0098 - accuracy: 0.2534 - val_loss: 0.0166 - val_accuracy: 0.2984\n",
      "Epoch 36/500\n",
      "2/2 [==============================] - 1s 434ms/step - loss: 0.0095 - accuracy: 0.2457 - val_loss: 0.0169 - val_accuracy: 0.2963\n",
      "Epoch 37/500\n",
      "2/2 [==============================] - 1s 460ms/step - loss: 0.0090 - accuracy: 0.2581 - val_loss: 0.0129 - val_accuracy: 0.2866\n",
      "Epoch 38/500\n",
      "2/2 [==============================] - 0s 392ms/step - loss: 0.0097 - accuracy: 0.2568 - val_loss: 0.0168 - val_accuracy: 0.2896\n",
      "Epoch 39/500\n",
      "2/2 [==============================] - 0s 412ms/step - loss: 0.0090 - accuracy: 0.2509 - val_loss: 0.0199 - val_accuracy: 0.2888\n",
      "Epoch 40/500\n",
      "2/2 [==============================] - 0s 409ms/step - loss: 0.0089 - accuracy: 0.2440 - val_loss: 0.0129 - val_accuracy: 0.2776\n",
      "Epoch 41/500\n",
      "2/2 [==============================] - 0s 405ms/step - loss: 0.0088 - accuracy: 0.2479 - val_loss: 0.0160 - val_accuracy: 0.2786\n",
      "Epoch 42/500\n",
      "2/2 [==============================] - 0s 412ms/step - loss: 0.0081 - accuracy: 0.2419 - val_loss: 0.0181 - val_accuracy: 0.2798\n",
      "Epoch 43/500\n",
      "2/2 [==============================] - 1s 412ms/step - loss: 0.0081 - accuracy: 0.2517 - val_loss: 0.0118 - val_accuracy: 0.2701\n",
      "Epoch 44/500\n",
      "2/2 [==============================] - 0s 395ms/step - loss: 0.0089 - accuracy: 0.2487 - val_loss: 0.0163 - val_accuracy: 0.2753\n",
      "Epoch 45/500\n",
      "2/2 [==============================] - 0s 410ms/step - loss: 0.0083 - accuracy: 0.2530 - val_loss: 0.0168 - val_accuracy: 0.2763\n",
      "Epoch 46/500\n",
      "2/2 [==============================] - 1s 425ms/step - loss: 0.0080 - accuracy: 0.2372 - val_loss: 0.0123 - val_accuracy: 0.2694\n",
      "Epoch 47/500\n",
      "2/2 [==============================] - 0s 428ms/step - loss: 0.0083 - accuracy: 0.2649 - val_loss: 0.0137 - val_accuracy: 0.2748\n",
      "Epoch 48/500\n",
      "2/2 [==============================] - 1s 458ms/step - loss: 0.0078 - accuracy: 0.2317 - val_loss: 0.0154 - val_accuracy: 0.2784\n",
      "Epoch 49/500\n",
      "2/2 [==============================] - 0s 413ms/step - loss: 0.0077 - accuracy: 0.2389 - val_loss: 0.0131 - val_accuracy: 0.2788\n",
      "Epoch 50/500\n",
      "2/2 [==============================] - 0s 412ms/step - loss: 0.0077 - accuracy: 0.2453 - val_loss: 0.0134 - val_accuracy: 0.2847\n",
      "Epoch 51/500\n",
      "2/2 [==============================] - 0s 416ms/step - loss: 0.0073 - accuracy: 0.2611 - val_loss: 0.0146 - val_accuracy: 0.2886\n",
      "Epoch 52/500\n",
      "2/2 [==============================] - 0s 407ms/step - loss: 0.0075 - accuracy: 0.2623 - val_loss: 0.0131 - val_accuracy: 0.2873\n",
      "Epoch 53/500\n",
      "2/2 [==============================] - 1s 474ms/step - loss: 0.0069 - accuracy: 0.2509 - val_loss: 0.0121 - val_accuracy: 0.2855\n",
      "Epoch 54/500\n",
      "2/2 [==============================] - 0s 415ms/step - loss: 0.0073 - accuracy: 0.2645 - val_loss: 0.0156 - val_accuracy: 0.2899\n",
      "Epoch 55/500\n",
      "2/2 [==============================] - 1s 483ms/step - loss: 0.0074 - accuracy: 0.2487 - val_loss: 0.0132 - val_accuracy: 0.2862\n",
      "Epoch 56/500\n",
      "2/2 [==============================] - 0s 407ms/step - loss: 0.0070 - accuracy: 0.2670 - val_loss: 0.0138 - val_accuracy: 0.2864\n",
      "Epoch 57/500\n",
      "2/2 [==============================] - 0s 423ms/step - loss: 0.0072 - accuracy: 0.2598 - val_loss: 0.0156 - val_accuracy: 0.2892\n",
      "Epoch 58/500\n",
      "2/2 [==============================] - 1s 436ms/step - loss: 0.0069 - accuracy: 0.2521 - val_loss: 0.0134 - val_accuracy: 0.2866\n",
      "Epoch 59/500\n",
      "2/2 [==============================] - 0s 417ms/step - loss: 0.0065 - accuracy: 0.2526 - val_loss: 0.0134 - val_accuracy: 0.2874\n",
      "Epoch 60/500\n",
      "2/2 [==============================] - 1s 428ms/step - loss: 0.0071 - accuracy: 0.2474 - val_loss: 0.0139 - val_accuracy: 0.2873\n",
      "Epoch 61/500\n",
      "2/2 [==============================] - 0s 410ms/step - loss: 0.0061 - accuracy: 0.2628 - val_loss: 0.0147 - val_accuracy: 0.2866\n",
      "Epoch 62/500\n",
      "2/2 [==============================] - 0s 402ms/step - loss: 0.0066 - accuracy: 0.2568 - val_loss: 0.0124 - val_accuracy: 0.2782\n",
      "Epoch 63/500\n",
      "2/2 [==============================] - 0s 424ms/step - loss: 0.0067 - accuracy: 0.2759 - val_loss: 0.0146 - val_accuracy: 0.2794\n",
      "Epoch 64/500\n",
      "2/2 [==============================] - 1s 473ms/step - loss: 0.0067 - accuracy: 0.2713 - val_loss: 0.0129 - val_accuracy: 0.2739\n",
      "Epoch 65/500\n",
      "2/2 [==============================] - 1s 436ms/step - loss: 0.0063 - accuracy: 0.2572 - val_loss: 0.0115 - val_accuracy: 0.2694\n",
      "Epoch 66/500\n",
      "2/2 [==============================] - 1s 438ms/step - loss: 0.0065 - accuracy: 0.2509 - val_loss: 0.0136 - val_accuracy: 0.2745\n",
      "Epoch 67/500\n",
      "2/2 [==============================] - 1s 488ms/step - loss: 0.0064 - accuracy: 0.2453 - val_loss: 0.0121 - val_accuracy: 0.2739\n",
      "Epoch 68/500\n",
      "2/2 [==============================] - 1s 510ms/step - loss: 0.0061 - accuracy: 0.2679 - val_loss: 0.0114 - val_accuracy: 0.2759\n",
      "Epoch 69/500\n",
      "2/2 [==============================] - 1s 544ms/step - loss: 0.0062 - accuracy: 0.2564 - val_loss: 0.0119 - val_accuracy: 0.2786\n",
      "Epoch 70/500\n",
      "2/2 [==============================] - 1s 489ms/step - loss: 0.0060 - accuracy: 0.2589 - val_loss: 0.0114 - val_accuracy: 0.2772\n",
      "Epoch 71/500\n",
      "2/2 [==============================] - 0s 418ms/step - loss: 0.0067 - accuracy: 0.2764 - val_loss: 0.0113 - val_accuracy: 0.2780\n",
      "Epoch 72/500\n",
      "2/2 [==============================] - 0s 414ms/step - loss: 0.0059 - accuracy: 0.2479 - val_loss: 0.0123 - val_accuracy: 0.2830\n",
      "Epoch 73/500\n",
      "2/2 [==============================] - 0s 416ms/step - loss: 0.0058 - accuracy: 0.2491 - val_loss: 0.0115 - val_accuracy: 0.2839\n",
      "Epoch 74/500\n",
      "2/2 [==============================] - 1s 484ms/step - loss: 0.0059 - accuracy: 0.2657 - val_loss: 0.0115 - val_accuracy: 0.2851\n",
      "Epoch 75/500\n",
      "2/2 [==============================] - 1s 448ms/step - loss: 0.0060 - accuracy: 0.2602 - val_loss: 0.0121 - val_accuracy: 0.2844\n",
      "Epoch 76/500\n",
      "2/2 [==============================] - 1s 512ms/step - loss: 0.0059 - accuracy: 0.2602 - val_loss: 0.0123 - val_accuracy: 0.2856\n",
      "Epoch 77/500\n",
      "2/2 [==============================] - 1s 447ms/step - loss: 0.0060 - accuracy: 0.2730 - val_loss: 0.0119 - val_accuracy: 0.2829\n",
      "Epoch 78/500\n",
      "2/2 [==============================] - 1s 428ms/step - loss: 0.0054 - accuracy: 0.2555 - val_loss: 0.0127 - val_accuracy: 0.2828\n",
      "Epoch 79/500\n",
      "2/2 [==============================] - 1s 439ms/step - loss: 0.0057 - accuracy: 0.2653 - val_loss: 0.0124 - val_accuracy: 0.2786\n",
      "Epoch 80/500\n",
      "2/2 [==============================] - 0s 429ms/step - loss: 0.0059 - accuracy: 0.2504 - val_loss: 0.0127 - val_accuracy: 0.2786\n",
      "Epoch 81/500\n",
      "2/2 [==============================] - 1s 455ms/step - loss: 0.0056 - accuracy: 0.2457 - val_loss: 0.0134 - val_accuracy: 0.2809\n",
      "Epoch 82/500\n",
      "2/2 [==============================] - 0s 428ms/step - loss: 0.0050 - accuracy: 0.2538 - val_loss: 0.0135 - val_accuracy: 0.2810\n",
      "Epoch 83/500\n",
      "2/2 [==============================] - 1s 430ms/step - loss: 0.0055 - accuracy: 0.2585 - val_loss: 0.0139 - val_accuracy: 0.2799\n",
      "Epoch 84/500\n",
      "2/2 [==============================] - 0s 428ms/step - loss: 0.0050 - accuracy: 0.2572 - val_loss: 0.0122 - val_accuracy: 0.2749\n",
      "Epoch 85/500\n",
      "2/2 [==============================] - 0s 424ms/step - loss: 0.0051 - accuracy: 0.2628 - val_loss: 0.0121 - val_accuracy: 0.2748\n",
      "Epoch 86/500\n",
      "2/2 [==============================] - 0s 424ms/step - loss: 0.0058 - accuracy: 0.2509 - val_loss: 0.0115 - val_accuracy: 0.2751\n",
      "Epoch 87/500\n",
      "2/2 [==============================] - 1s 493ms/step - loss: 0.0058 - accuracy: 0.2674 - val_loss: 0.0119 - val_accuracy: 0.2773\n",
      "Epoch 88/500\n",
      "2/2 [==============================] - 0s 417ms/step - loss: 0.0052 - accuracy: 0.2606 - val_loss: 0.0122 - val_accuracy: 0.2781\n",
      "Epoch 89/500\n",
      "2/2 [==============================] - 1s 459ms/step - loss: 0.0052 - accuracy: 0.2504 - val_loss: 0.0121 - val_accuracy: 0.2763\n",
      "Epoch 90/500\n",
      "2/2 [==============================] - 1s 443ms/step - loss: 0.0053 - accuracy: 0.2564 - val_loss: 0.0126 - val_accuracy: 0.2829\n",
      "Epoch 91/500\n",
      "2/2 [==============================] - 0s 428ms/step - loss: 0.0054 - accuracy: 0.2585 - val_loss: 0.0122 - val_accuracy: 0.2831\n",
      "Epoch 92/500\n",
      "2/2 [==============================] - 1s 491ms/step - loss: 0.0051 - accuracy: 0.2742 - val_loss: 0.0120 - val_accuracy: 0.2875\n",
      "Epoch 93/500\n",
      "2/2 [==============================] - 1s 432ms/step - loss: 0.0048 - accuracy: 0.2717 - val_loss: 0.0117 - val_accuracy: 0.2864\n",
      "Epoch 94/500\n",
      "2/2 [==============================] - 1s 456ms/step - loss: 0.0049 - accuracy: 0.2606 - val_loss: 0.0116 - val_accuracy: 0.2859\n",
      "Epoch 95/500\n",
      "2/2 [==============================] - 0s 421ms/step - loss: 0.0052 - accuracy: 0.2581 - val_loss: 0.0119 - val_accuracy: 0.2870\n",
      "Epoch 96/500\n",
      "2/2 [==============================] - 1s 475ms/step - loss: 0.0049 - accuracy: 0.2679 - val_loss: 0.0120 - val_accuracy: 0.2859\n",
      "Epoch 97/500\n",
      "2/2 [==============================] - 1s 432ms/step - loss: 0.0046 - accuracy: 0.2504 - val_loss: 0.0121 - val_accuracy: 0.2837\n",
      "Epoch 98/500\n",
      "2/2 [==============================] - 1s 470ms/step - loss: 0.0047 - accuracy: 0.2551 - val_loss: 0.0122 - val_accuracy: 0.2827\n",
      "Epoch 99/500\n",
      "2/2 [==============================] - 1s 455ms/step - loss: 0.0047 - accuracy: 0.2628 - val_loss: 0.0121 - val_accuracy: 0.2767\n",
      "Epoch 100/500\n",
      "2/2 [==============================] - 1s 457ms/step - loss: 0.0048 - accuracy: 0.2606 - val_loss: 0.0119 - val_accuracy: 0.2757\n",
      "Epoch 101/500\n",
      "2/2 [==============================] - 1s 458ms/step - loss: 0.0047 - accuracy: 0.2572 - val_loss: 0.0118 - val_accuracy: 0.2754\n",
      "Epoch 102/500\n",
      "2/2 [==============================] - 1s 450ms/step - loss: 0.0045 - accuracy: 0.2649 - val_loss: 0.0120 - val_accuracy: 0.2751\n",
      "Epoch 103/500\n",
      "2/2 [==============================] - 1s 524ms/step - loss: 0.0047 - accuracy: 0.2670 - val_loss: 0.0120 - val_accuracy: 0.2758\n",
      "Epoch 104/500\n",
      "2/2 [==============================] - 1s 456ms/step - loss: 0.0050 - accuracy: 0.2619 - val_loss: 0.0119 - val_accuracy: 0.2743\n",
      "Epoch 105/500\n",
      "2/2 [==============================] - 1s 592ms/step - loss: 0.0045 - accuracy: 0.2666 - val_loss: 0.0117 - val_accuracy: 0.2729\n",
      "Epoch 106/500\n",
      "2/2 [==============================] - 1s 439ms/step - loss: 0.0046 - accuracy: 0.2606 - val_loss: 0.0114 - val_accuracy: 0.2722\n",
      "Epoch 107/500\n",
      "2/2 [==============================] - 1s 474ms/step - loss: 0.0047 - accuracy: 0.2547 - val_loss: 0.0115 - val_accuracy: 0.2700\n",
      "Epoch 108/500\n",
      "2/2 [==============================] - 1s 509ms/step - loss: 0.0043 - accuracy: 0.2611 - val_loss: 0.0113 - val_accuracy: 0.2706\n",
      "Epoch 109/500\n",
      "2/2 [==============================] - 1s 461ms/step - loss: 0.0048 - accuracy: 0.2657 - val_loss: 0.0116 - val_accuracy: 0.2714\n",
      "Epoch 110/500\n",
      "2/2 [==============================] - 1s 533ms/step - loss: 0.0045 - accuracy: 0.2798 - val_loss: 0.0119 - val_accuracy: 0.2722\n",
      "Epoch 111/500\n",
      "2/2 [==============================] - 1s 648ms/step - loss: 0.0045 - accuracy: 0.2640 - val_loss: 0.0121 - val_accuracy: 0.2733\n",
      "Epoch 112/500\n",
      "2/2 [==============================] - 0s 415ms/step - loss: 0.0045 - accuracy: 0.2636 - val_loss: 0.0123 - val_accuracy: 0.2727\n",
      "Epoch 113/500\n",
      "2/2 [==============================] - 1s 427ms/step - loss: 0.0043 - accuracy: 0.2649 - val_loss: 0.0122 - val_accuracy: 0.2736\n",
      "Epoch 114/500\n",
      "2/2 [==============================] - 1s 470ms/step - loss: 0.0044 - accuracy: 0.2674 - val_loss: 0.0124 - val_accuracy: 0.2717\n",
      "Epoch 115/500\n",
      "2/2 [==============================] - 1s 484ms/step - loss: 0.0046 - accuracy: 0.2581 - val_loss: 0.0128 - val_accuracy: 0.2709\n",
      "Epoch 116/500\n",
      "2/2 [==============================] - 1s 446ms/step - loss: 0.0045 - accuracy: 0.2619 - val_loss: 0.0122 - val_accuracy: 0.2747\n",
      "Epoch 117/500\n",
      "2/2 [==============================] - 1s 445ms/step - loss: 0.0048 - accuracy: 0.2666 - val_loss: 0.0132 - val_accuracy: 0.2726\n",
      "Epoch 118/500\n",
      "2/2 [==============================] - 0s 410ms/step - loss: 0.0044 - accuracy: 0.2789 - val_loss: 0.0125 - val_accuracy: 0.2769\n",
      "Epoch 119/500\n",
      "2/2 [==============================] - 0s 400ms/step - loss: 0.0042 - accuracy: 0.2640 - val_loss: 0.0124 - val_accuracy: 0.2793\n",
      "Epoch 120/500\n",
      "2/2 [==============================] - 0s 401ms/step - loss: 0.0043 - accuracy: 0.2700 - val_loss: 0.0138 - val_accuracy: 0.2810\n",
      "Epoch 121/500\n",
      "2/2 [==============================] - 1s 460ms/step - loss: 0.0041 - accuracy: 0.2577 - val_loss: 0.0129 - val_accuracy: 0.2861\n",
      "Epoch 122/500\n",
      "2/2 [==============================] - 1s 446ms/step - loss: 0.0045 - accuracy: 0.2611 - val_loss: 0.0136 - val_accuracy: 0.2828\n",
      "Epoch 123/500\n",
      "2/2 [==============================] - 1s 451ms/step - loss: 0.0042 - accuracy: 0.2683 - val_loss: 0.0125 - val_accuracy: 0.2810\n",
      "Epoch 124/500\n",
      "2/2 [==============================] - 0s 424ms/step - loss: 0.0042 - accuracy: 0.2517 - val_loss: 0.0123 - val_accuracy: 0.2752\n",
      "Epoch 125/500\n",
      "2/2 [==============================] - 0s 413ms/step - loss: 0.0042 - accuracy: 0.2555 - val_loss: 0.0129 - val_accuracy: 0.2698\n",
      "Epoch 126/500\n",
      "2/2 [==============================] - 1s 431ms/step - loss: 0.0041 - accuracy: 0.2560 - val_loss: 0.0120 - val_accuracy: 0.2724\n",
      "Epoch 127/500\n",
      "2/2 [==============================] - 1s 457ms/step - loss: 0.0043 - accuracy: 0.2674 - val_loss: 0.0132 - val_accuracy: 0.2684\n",
      "Epoch 128/500\n",
      "2/2 [==============================] - 1s 434ms/step - loss: 0.0042 - accuracy: 0.2555 - val_loss: 0.0130 - val_accuracy: 0.2699\n",
      "Epoch 129/500\n",
      "2/2 [==============================] - 1s 435ms/step - loss: 0.0040 - accuracy: 0.2691 - val_loss: 0.0124 - val_accuracy: 0.2742\n",
      "Epoch 130/500\n",
      "2/2 [==============================] - 0s 428ms/step - loss: 0.0040 - accuracy: 0.2611 - val_loss: 0.0124 - val_accuracy: 0.2754\n",
      "Epoch 131/500\n",
      "2/2 [==============================] - 1s 434ms/step - loss: 0.0040 - accuracy: 0.2551 - val_loss: 0.0117 - val_accuracy: 0.2763\n",
      "Epoch 132/500\n",
      "2/2 [==============================] - 0s 428ms/step - loss: 0.0040 - accuracy: 0.2657 - val_loss: 0.0121 - val_accuracy: 0.2746\n",
      "Epoch 133/500\n",
      "2/2 [==============================] - 1s 431ms/step - loss: 0.0037 - accuracy: 0.2547 - val_loss: 0.0115 - val_accuracy: 0.2769\n",
      "Epoch 134/500\n",
      "2/2 [==============================] - 1s 432ms/step - loss: 0.0041 - accuracy: 0.2810 - val_loss: 0.0135 - val_accuracy: 0.2738\n",
      "Epoch 135/500\n",
      "2/2 [==============================] - 0s 429ms/step - loss: 0.0043 - accuracy: 0.2700 - val_loss: 0.0119 - val_accuracy: 0.2764\n",
      "Epoch 136/500\n",
      "2/2 [==============================] - 0s 418ms/step - loss: 0.0044 - accuracy: 0.2577 - val_loss: 0.0130 - val_accuracy: 0.2756\n",
      "Epoch 137/500\n",
      "2/2 [==============================] - 1s 438ms/step - loss: 0.0041 - accuracy: 0.2611 - val_loss: 0.0126 - val_accuracy: 0.2747\n",
      "Epoch 138/500\n",
      "2/2 [==============================] - 1s 483ms/step - loss: 0.0039 - accuracy: 0.2615 - val_loss: 0.0117 - val_accuracy: 0.2741\n",
      "Epoch 139/500\n",
      "2/2 [==============================] - 1s 509ms/step - loss: 0.0045 - accuracy: 0.2772 - val_loss: 0.0141 - val_accuracy: 0.2646\n",
      "Epoch 140/500\n",
      "2/2 [==============================] - 1s 550ms/step - loss: 0.0045 - accuracy: 0.2713 - val_loss: 0.0106 - val_accuracy: 0.2695\n",
      "Epoch 141/500\n",
      "2/2 [==============================] - 1s 516ms/step - loss: 0.0047 - accuracy: 0.2526 - val_loss: 0.0112 - val_accuracy: 0.2670\n",
      "Epoch 142/500\n",
      "2/2 [==============================] - 1s 668ms/step - loss: 0.0040 - accuracy: 0.2572 - val_loss: 0.0116 - val_accuracy: 0.2692\n",
      "Epoch 143/500\n",
      "2/2 [==============================] - 1s 630ms/step - loss: 0.0039 - accuracy: 0.2615 - val_loss: 0.0109 - val_accuracy: 0.2744\n",
      "Epoch 144/500\n",
      "2/2 [==============================] - 1s 753ms/step - loss: 0.0046 - accuracy: 0.2747 - val_loss: 0.0109 - val_accuracy: 0.2717\n",
      "Epoch 145/500\n",
      "2/2 [==============================] - 1s 570ms/step - loss: 0.0039 - accuracy: 0.2589 - val_loss: 0.0097 - val_accuracy: 0.2759\n",
      "Epoch 146/500\n",
      "2/2 [==============================] - 1s 506ms/step - loss: 0.0036 - accuracy: 0.2568 - val_loss: 0.0095 - val_accuracy: 0.2780\n",
      "Epoch 147/500\n",
      "2/2 [==============================] - 1s 626ms/step - loss: 0.0041 - accuracy: 0.2679 - val_loss: 0.0109 - val_accuracy: 0.2786\n",
      "Epoch 148/500\n",
      "2/2 [==============================] - 1s 542ms/step - loss: 0.0039 - accuracy: 0.2806 - val_loss: 0.0102 - val_accuracy: 0.2823\n",
      "Epoch 149/500\n",
      "2/2 [==============================] - 0s 424ms/step - loss: 0.0037 - accuracy: 0.2721 - val_loss: 0.0105 - val_accuracy: 0.2828\n",
      "Epoch 150/500\n",
      "2/2 [==============================] - 0s 413ms/step - loss: 0.0037 - accuracy: 0.2526 - val_loss: 0.0110 - val_accuracy: 0.2803\n",
      "Epoch 151/500\n",
      "2/2 [==============================] - 0s 425ms/step - loss: 0.0045 - accuracy: 0.2687 - val_loss: 0.0103 - val_accuracy: 0.2786\n",
      "Epoch 152/500\n",
      "2/2 [==============================] - 1s 465ms/step - loss: 0.0039 - accuracy: 0.2657 - val_loss: 0.0109 - val_accuracy: 0.2728\n",
      "Epoch 153/500\n",
      "2/2 [==============================] - 1s 531ms/step - loss: 0.0036 - accuracy: 0.2785 - val_loss: 0.0105 - val_accuracy: 0.2686\n",
      "Epoch 154/500\n",
      "2/2 [==============================] - 1s 461ms/step - loss: 0.0036 - accuracy: 0.2589 - val_loss: 0.0099 - val_accuracy: 0.2681\n",
      "Epoch 155/500\n",
      "2/2 [==============================] - 1s 486ms/step - loss: 0.0038 - accuracy: 0.2521 - val_loss: 0.0112 - val_accuracy: 0.2652\n",
      "Epoch 156/500\n",
      "2/2 [==============================] - 1s 441ms/step - loss: 0.0039 - accuracy: 0.2687 - val_loss: 0.0105 - val_accuracy: 0.2672\n",
      "Epoch 157/500\n",
      "2/2 [==============================] - 1s 436ms/step - loss: 0.0035 - accuracy: 0.2734 - val_loss: 0.0107 - val_accuracy: 0.2664\n",
      "Epoch 158/500\n",
      "2/2 [==============================] - 1s 505ms/step - loss: 0.0034 - accuracy: 0.2708 - val_loss: 0.0115 - val_accuracy: 0.2650\n",
      "Epoch 159/500\n",
      "2/2 [==============================] - 1s 462ms/step - loss: 0.0037 - accuracy: 0.2509 - val_loss: 0.0105 - val_accuracy: 0.2656\n",
      "Epoch 160/500\n",
      "2/2 [==============================] - 1s 459ms/step - loss: 0.0035 - accuracy: 0.2772 - val_loss: 0.0103 - val_accuracy: 0.2653\n",
      "Epoch 161/500\n",
      "2/2 [==============================] - 1s 478ms/step - loss: 0.0035 - accuracy: 0.2717 - val_loss: 0.0117 - val_accuracy: 0.2647\n",
      "Epoch 162/500\n",
      "2/2 [==============================] - 1s 492ms/step - loss: 0.0035 - accuracy: 0.2683 - val_loss: 0.0106 - val_accuracy: 0.2699\n",
      "Epoch 163/500\n",
      "2/2 [==============================] - 1s 457ms/step - loss: 0.0037 - accuracy: 0.2772 - val_loss: 0.0112 - val_accuracy: 0.2749\n",
      "Epoch 164/500\n",
      "2/2 [==============================] - 1s 484ms/step - loss: 0.0035 - accuracy: 0.2619 - val_loss: 0.0108 - val_accuracy: 0.2796\n",
      "Epoch 165/500\n",
      "2/2 [==============================] - 1s 441ms/step - loss: 0.0034 - accuracy: 0.2577 - val_loss: 0.0111 - val_accuracy: 0.2819\n",
      "Epoch 166/500\n",
      "2/2 [==============================] - 0s 423ms/step - loss: 0.0034 - accuracy: 0.2657 - val_loss: 0.0112 - val_accuracy: 0.2842\n",
      "Epoch 167/500\n",
      "2/2 [==============================] - 1s 438ms/step - loss: 0.0033 - accuracy: 0.2734 - val_loss: 0.0106 - val_accuracy: 0.2842\n",
      "Epoch 168/500\n",
      "2/2 [==============================] - 1s 461ms/step - loss: 0.0033 - accuracy: 0.2551 - val_loss: 0.0111 - val_accuracy: 0.2788\n",
      "Epoch 169/500\n",
      "2/2 [==============================] - 0s 428ms/step - loss: 0.0032 - accuracy: 0.2721 - val_loss: 0.0117 - val_accuracy: 0.2763\n",
      "Epoch 170/500\n",
      "2/2 [==============================] - 1s 458ms/step - loss: 0.0035 - accuracy: 0.2632 - val_loss: 0.0109 - val_accuracy: 0.2778\n",
      "Epoch 171/500\n",
      "2/2 [==============================] - 1s 459ms/step - loss: 0.0036 - accuracy: 0.2462 - val_loss: 0.0121 - val_accuracy: 0.2765\n",
      "Epoch 172/500\n",
      "2/2 [==============================] - 0s 427ms/step - loss: 0.0036 - accuracy: 0.2602 - val_loss: 0.0119 - val_accuracy: 0.2798\n",
      "Epoch 173/500\n",
      "2/2 [==============================] - 1s 464ms/step - loss: 0.0034 - accuracy: 0.2602 - val_loss: 0.0113 - val_accuracy: 0.2812\n",
      "Epoch 174/500\n",
      "2/2 [==============================] - 1s 451ms/step - loss: 0.0031 - accuracy: 0.2615 - val_loss: 0.0117 - val_accuracy: 0.2790\n",
      "Epoch 175/500\n",
      "2/2 [==============================] - 1s 437ms/step - loss: 0.0033 - accuracy: 0.2619 - val_loss: 0.0111 - val_accuracy: 0.2790\n",
      "Epoch 176/500\n",
      "2/2 [==============================] - 1s 435ms/step - loss: 0.0031 - accuracy: 0.2776 - val_loss: 0.0111 - val_accuracy: 0.2760\n",
      "Epoch 177/500\n",
      "2/2 [==============================] - 1s 430ms/step - loss: 0.0032 - accuracy: 0.2713 - val_loss: 0.0109 - val_accuracy: 0.2735\n",
      "Epoch 178/500\n",
      "2/2 [==============================] - 0s 423ms/step - loss: 0.0032 - accuracy: 0.2636 - val_loss: 0.0117 - val_accuracy: 0.2713\n",
      "Epoch 179/500\n",
      "2/2 [==============================] - 1s 481ms/step - loss: 0.0032 - accuracy: 0.2674 - val_loss: 0.0116 - val_accuracy: 0.2705\n",
      "Epoch 180/500\n",
      "2/2 [==============================] - 0s 429ms/step - loss: 0.0031 - accuracy: 0.2687 - val_loss: 0.0114 - val_accuracy: 0.2716\n",
      "Epoch 181/500\n",
      "2/2 [==============================] - 1s 483ms/step - loss: 0.0032 - accuracy: 0.2713 - val_loss: 0.0123 - val_accuracy: 0.2713\n",
      "Epoch 182/500\n",
      "2/2 [==============================] - 0s 419ms/step - loss: 0.0032 - accuracy: 0.2759 - val_loss: 0.0111 - val_accuracy: 0.2716\n",
      "Epoch 183/500\n",
      "2/2 [==============================] - 0s 416ms/step - loss: 0.0033 - accuracy: 0.2742 - val_loss: 0.0119 - val_accuracy: 0.2706\n",
      "Epoch 184/500\n",
      "2/2 [==============================] - 0s 430ms/step - loss: 0.0032 - accuracy: 0.2721 - val_loss: 0.0119 - val_accuracy: 0.2696\n",
      "Epoch 185/500\n",
      "2/2 [==============================] - 1s 456ms/step - loss: 0.0031 - accuracy: 0.2670 - val_loss: 0.0115 - val_accuracy: 0.2718\n",
      "Epoch 186/500\n",
      "2/2 [==============================] - 0s 415ms/step - loss: 0.0034 - accuracy: 0.2687 - val_loss: 0.0120 - val_accuracy: 0.2718\n",
      "Epoch 187/500\n",
      "2/2 [==============================] - 0s 415ms/step - loss: 0.0030 - accuracy: 0.2700 - val_loss: 0.0120 - val_accuracy: 0.2725\n",
      "Epoch 188/500\n",
      "2/2 [==============================] - 0s 411ms/step - loss: 0.0031 - accuracy: 0.2815 - val_loss: 0.0117 - val_accuracy: 0.2741\n",
      "Epoch 189/500\n",
      "2/2 [==============================] - 0s 429ms/step - loss: 0.0031 - accuracy: 0.2683 - val_loss: 0.0119 - val_accuracy: 0.2757\n",
      "Epoch 190/500\n",
      "2/2 [==============================] - 1s 478ms/step - loss: 0.0029 - accuracy: 0.2623 - val_loss: 0.0119 - val_accuracy: 0.2776\n",
      "Epoch 191/500\n",
      "2/2 [==============================] - 1s 413ms/step - loss: 0.0030 - accuracy: 0.2755 - val_loss: 0.0121 - val_accuracy: 0.2790\n",
      "Epoch 192/500\n",
      "2/2 [==============================] - 1s 449ms/step - loss: 0.0029 - accuracy: 0.2674 - val_loss: 0.0131 - val_accuracy: 0.2800\n",
      "Epoch 193/500\n",
      "2/2 [==============================] - 1s 464ms/step - loss: 0.0032 - accuracy: 0.2687 - val_loss: 0.0120 - val_accuracy: 0.2794\n",
      "Epoch 194/500\n",
      "2/2 [==============================] - 0s 417ms/step - loss: 0.0032 - accuracy: 0.2623 - val_loss: 0.0127 - val_accuracy: 0.2776\n",
      "Epoch 195/500\n",
      "2/2 [==============================] - 1s 434ms/step - loss: 0.0030 - accuracy: 0.2670 - val_loss: 0.0127 - val_accuracy: 0.2763\n",
      "Epoch 196/500\n",
      "2/2 [==============================] - 1s 432ms/step - loss: 0.0031 - accuracy: 0.2623 - val_loss: 0.0118 - val_accuracy: 0.2756\n",
      "Epoch 197/500\n",
      "2/2 [==============================] - 1s 450ms/step - loss: 0.0029 - accuracy: 0.2611 - val_loss: 0.0125 - val_accuracy: 0.2744\n",
      "Epoch 198/500\n",
      "2/2 [==============================] - 1s 482ms/step - loss: 0.0031 - accuracy: 0.2704 - val_loss: 0.0122 - val_accuracy: 0.2733\n",
      "Epoch 199/500\n",
      "2/2 [==============================] - 0s 424ms/step - loss: 0.0028 - accuracy: 0.2738 - val_loss: 0.0116 - val_accuracy: 0.2730\n",
      "Epoch 200/500\n",
      "2/2 [==============================] - 1s 451ms/step - loss: 0.0030 - accuracy: 0.2717 - val_loss: 0.0127 - val_accuracy: 0.2747\n",
      "Epoch 201/500\n",
      "2/2 [==============================] - 0s 416ms/step - loss: 0.0029 - accuracy: 0.2730 - val_loss: 0.0120 - val_accuracy: 0.2769\n",
      "Epoch 202/500\n",
      "2/2 [==============================] - 0s 416ms/step - loss: 0.0029 - accuracy: 0.2768 - val_loss: 0.0122 - val_accuracy: 0.2765\n",
      "Epoch 203/500\n",
      "2/2 [==============================] - 0s 410ms/step - loss: 0.0029 - accuracy: 0.2747 - val_loss: 0.0116 - val_accuracy: 0.2740\n",
      "Epoch 204/500\n",
      "2/2 [==============================] - 1s 432ms/step - loss: 0.0031 - accuracy: 0.2687 - val_loss: 0.0121 - val_accuracy: 0.2724\n",
      "Epoch 205/500\n",
      "2/2 [==============================] - 1s 565ms/step - loss: 0.0031 - accuracy: 0.2904 - val_loss: 0.0110 - val_accuracy: 0.2691\n",
      "Epoch 206/500\n",
      "2/2 [==============================] - 1s 626ms/step - loss: 0.0032 - accuracy: 0.2615 - val_loss: 0.0120 - val_accuracy: 0.2660\n",
      "Epoch 207/500\n",
      "2/2 [==============================] - 1s 434ms/step - loss: 0.0031 - accuracy: 0.2878 - val_loss: 0.0122 - val_accuracy: 0.2642\n",
      "Epoch 208/500\n",
      "2/2 [==============================] - 0s 426ms/step - loss: 0.0029 - accuracy: 0.2657 - val_loss: 0.0112 - val_accuracy: 0.2661\n",
      "Epoch 209/500\n",
      "2/2 [==============================] - 1s 475ms/step - loss: 0.0028 - accuracy: 0.2742 - val_loss: 0.0121 - val_accuracy: 0.2656\n",
      "Epoch 210/500\n",
      "2/2 [==============================] - 1s 439ms/step - loss: 0.0029 - accuracy: 0.2776 - val_loss: 0.0113 - val_accuracy: 0.2679\n",
      "Epoch 211/500\n",
      "2/2 [==============================] - 1s 530ms/step - loss: 0.0030 - accuracy: 0.2798 - val_loss: 0.0113 - val_accuracy: 0.2691\n",
      "Epoch 212/500\n",
      "2/2 [==============================] - 1s 606ms/step - loss: 0.0028 - accuracy: 0.2700 - val_loss: 0.0112 - val_accuracy: 0.2712\n",
      "Epoch 213/500\n",
      "2/2 [==============================] - 1s 450ms/step - loss: 0.0030 - accuracy: 0.2734 - val_loss: 0.0108 - val_accuracy: 0.2710\n",
      "Epoch 214/500\n",
      "2/2 [==============================] - 0s 419ms/step - loss: 0.0027 - accuracy: 0.2734 - val_loss: 0.0118 - val_accuracy: 0.2712\n",
      "Epoch 215/500\n",
      "2/2 [==============================] - 1s 436ms/step - loss: 0.0026 - accuracy: 0.2764 - val_loss: 0.0111 - val_accuracy: 0.2719\n",
      "Epoch 216/500\n",
      "2/2 [==============================] - 0s 409ms/step - loss: 0.0027 - accuracy: 0.2742 - val_loss: 0.0107 - val_accuracy: 0.2719\n",
      "Epoch 217/500\n",
      "2/2 [==============================] - 1s 430ms/step - loss: 0.0029 - accuracy: 0.2628 - val_loss: 0.0125 - val_accuracy: 0.2707\n",
      "Epoch 218/500\n",
      "2/2 [==============================] - 1s 427ms/step - loss: 0.0030 - accuracy: 0.2636 - val_loss: 0.0113 - val_accuracy: 0.2709\n",
      "Epoch 219/500\n",
      "2/2 [==============================] - 1s 429ms/step - loss: 0.0028 - accuracy: 0.2649 - val_loss: 0.0116 - val_accuracy: 0.2708\n",
      "Epoch 220/500\n",
      "2/2 [==============================] - 1s 450ms/step - loss: 0.0028 - accuracy: 0.2776 - val_loss: 0.0117 - val_accuracy: 0.2711\n",
      "Epoch 221/500\n",
      "2/2 [==============================] - 1s 436ms/step - loss: 0.0030 - accuracy: 0.2764 - val_loss: 0.0116 - val_accuracy: 0.2720\n",
      "Epoch 222/500\n",
      "2/2 [==============================] - 0s 412ms/step - loss: 0.0028 - accuracy: 0.2674 - val_loss: 0.0114 - val_accuracy: 0.2733\n",
      "Epoch 223/500\n",
      "2/2 [==============================] - 1s 432ms/step - loss: 0.0028 - accuracy: 0.2806 - val_loss: 0.0122 - val_accuracy: 0.2702\n",
      "Epoch 224/500\n",
      "2/2 [==============================] - 0s 425ms/step - loss: 0.0028 - accuracy: 0.2606 - val_loss: 0.0115 - val_accuracy: 0.2657\n",
      "Epoch 225/500\n",
      "2/2 [==============================] - 1s 431ms/step - loss: 0.0028 - accuracy: 0.2691 - val_loss: 0.0134 - val_accuracy: 0.2568\n",
      "Epoch 226/500\n",
      "2/2 [==============================] - 0s 435ms/step - loss: 0.0029 - accuracy: 0.2713 - val_loss: 0.0122 - val_accuracy: 0.2533\n",
      "Epoch 227/500\n",
      "2/2 [==============================] - 1s 474ms/step - loss: 0.0026 - accuracy: 0.2683 - val_loss: 0.0126 - val_accuracy: 0.2552\n",
      "Epoch 228/500\n",
      "2/2 [==============================] - 1s 460ms/step - loss: 0.0026 - accuracy: 0.2560 - val_loss: 0.0127 - val_accuracy: 0.2567\n",
      "Epoch 229/500\n",
      "2/2 [==============================] - 0s 425ms/step - loss: 0.0028 - accuracy: 0.2602 - val_loss: 0.0117 - val_accuracy: 0.2592\n",
      "Epoch 230/500\n",
      "2/2 [==============================] - 1s 417ms/step - loss: 0.0026 - accuracy: 0.2776 - val_loss: 0.0120 - val_accuracy: 0.2583\n",
      "Epoch 231/500\n",
      "2/2 [==============================] - 1s 502ms/step - loss: 0.0029 - accuracy: 0.2645 - val_loss: 0.0123 - val_accuracy: 0.2585\n",
      "Epoch 232/500\n",
      "2/2 [==============================] - 0s 416ms/step - loss: 0.0027 - accuracy: 0.2662 - val_loss: 0.0113 - val_accuracy: 0.2584\n",
      "Epoch 233/500\n",
      "2/2 [==============================] - 1s 430ms/step - loss: 0.0027 - accuracy: 0.2730 - val_loss: 0.0120 - val_accuracy: 0.2599\n",
      "Epoch 234/500\n",
      "2/2 [==============================] - 0s 406ms/step - loss: 0.0028 - accuracy: 0.2853 - val_loss: 0.0116 - val_accuracy: 0.2638\n",
      "Epoch 235/500\n",
      "2/2 [==============================] - 1s 493ms/step - loss: 0.0026 - accuracy: 0.2662 - val_loss: 0.0110 - val_accuracy: 0.2673\n",
      "Epoch 236/500\n",
      "2/2 [==============================] - 1s 482ms/step - loss: 0.0028 - accuracy: 0.2789 - val_loss: 0.0131 - val_accuracy: 0.2688\n",
      "Epoch 237/500\n",
      "2/2 [==============================] - 1s 472ms/step - loss: 0.0027 - accuracy: 0.2645 - val_loss: 0.0108 - val_accuracy: 0.2727\n",
      "Epoch 238/500\n",
      "2/2 [==============================] - 1s 463ms/step - loss: 0.0031 - accuracy: 0.2704 - val_loss: 0.0133 - val_accuracy: 0.2740\n",
      "Epoch 239/500\n",
      "2/2 [==============================] - 1s 451ms/step - loss: 0.0030 - accuracy: 0.2585 - val_loss: 0.0121 - val_accuracy: 0.2762\n",
      "Epoch 240/500\n",
      "2/2 [==============================] - 1s 468ms/step - loss: 0.0027 - accuracy: 0.2704 - val_loss: 0.0127 - val_accuracy: 0.2759\n",
      "Epoch 241/500\n",
      "2/2 [==============================] - 1s 528ms/step - loss: 0.0027 - accuracy: 0.2649 - val_loss: 0.0126 - val_accuracy: 0.2762\n",
      "Epoch 242/500\n",
      "2/2 [==============================] - 1s 442ms/step - loss: 0.0026 - accuracy: 0.2649 - val_loss: 0.0121 - val_accuracy: 0.2726\n",
      "Epoch 243/500\n",
      "2/2 [==============================] - 1s 442ms/step - loss: 0.0024 - accuracy: 0.2844 - val_loss: 0.0134 - val_accuracy: 0.2672\n",
      "Epoch 244/500\n",
      "2/2 [==============================] - 1s 442ms/step - loss: 0.0027 - accuracy: 0.2708 - val_loss: 0.0119 - val_accuracy: 0.2663\n",
      "Epoch 245/500\n",
      "2/2 [==============================] - 1s 429ms/step - loss: 0.0026 - accuracy: 0.2700 - val_loss: 0.0134 - val_accuracy: 0.2628\n",
      "Epoch 246/500\n",
      "2/2 [==============================] - 1s 469ms/step - loss: 0.0027 - accuracy: 0.2883 - val_loss: 0.0129 - val_accuracy: 0.2604\n",
      "Epoch 247/500\n",
      "2/2 [==============================] - 1s 443ms/step - loss: 0.0026 - accuracy: 0.2670 - val_loss: 0.0122 - val_accuracy: 0.2580\n",
      "Epoch 248/500\n",
      "2/2 [==============================] - 1s 447ms/step - loss: 0.0026 - accuracy: 0.2895 - val_loss: 0.0125 - val_accuracy: 0.2548\n",
      "Epoch 249/500\n",
      "2/2 [==============================] - 1s 436ms/step - loss: 0.0026 - accuracy: 0.2683 - val_loss: 0.0119 - val_accuracy: 0.2572\n",
      "Epoch 250/500\n",
      "2/2 [==============================] - 1s 458ms/step - loss: 0.0026 - accuracy: 0.2657 - val_loss: 0.0119 - val_accuracy: 0.2586\n",
      "Epoch 251/500\n",
      "2/2 [==============================] - 1s 447ms/step - loss: 0.0026 - accuracy: 0.2381 - val_loss: 0.0125 - val_accuracy: 0.2619\n",
      "Epoch 252/500\n",
      "2/2 [==============================] - 1s 469ms/step - loss: 0.0023 - accuracy: 0.2649 - val_loss: 0.0126 - val_accuracy: 0.2658\n",
      "Epoch 253/500\n",
      "2/2 [==============================] - 1s 471ms/step - loss: 0.0024 - accuracy: 0.2819 - val_loss: 0.0123 - val_accuracy: 0.2676\n",
      "Epoch 254/500\n",
      "2/2 [==============================] - 1s 432ms/step - loss: 0.0026 - accuracy: 0.2687 - val_loss: 0.0124 - val_accuracy: 0.2675\n",
      "Epoch 255/500\n",
      "2/2 [==============================] - 1s 445ms/step - loss: 0.0025 - accuracy: 0.2823 - val_loss: 0.0130 - val_accuracy: 0.2661\n",
      "Epoch 256/500\n",
      "2/2 [==============================] - 1s 482ms/step - loss: 0.0025 - accuracy: 0.2623 - val_loss: 0.0125 - val_accuracy: 0.2661\n",
      "Epoch 257/500\n",
      "2/2 [==============================] - 1s 466ms/step - loss: 0.0025 - accuracy: 0.2725 - val_loss: 0.0132 - val_accuracy: 0.2647\n",
      "Epoch 258/500\n",
      "2/2 [==============================] - 1s 452ms/step - loss: 0.0027 - accuracy: 0.2772 - val_loss: 0.0142 - val_accuracy: 0.2651\n",
      "Epoch 259/500\n",
      "2/2 [==============================] - 1s 602ms/step - loss: 0.0025 - accuracy: 0.2781 - val_loss: 0.0137 - val_accuracy: 0.2657\n",
      "Epoch 260/500\n",
      "2/2 [==============================] - 1s 614ms/step - loss: 0.0025 - accuracy: 0.2670 - val_loss: 0.0137 - val_accuracy: 0.2676\n",
      "Epoch 261/500\n",
      "2/2 [==============================] - 1s 509ms/step - loss: 0.0024 - accuracy: 0.2751 - val_loss: 0.0144 - val_accuracy: 0.2696\n",
      "Epoch 262/500\n",
      "2/2 [==============================] - 1s 676ms/step - loss: 0.0028 - accuracy: 0.2585 - val_loss: 0.0127 - val_accuracy: 0.2738\n",
      "Epoch 263/500\n",
      "2/2 [==============================] - 1s 542ms/step - loss: 0.0026 - accuracy: 0.2708 - val_loss: 0.0142 - val_accuracy: 0.2714\n",
      "Epoch 264/500\n",
      "2/2 [==============================] - 1s 486ms/step - loss: 0.0025 - accuracy: 0.2840 - val_loss: 0.0132 - val_accuracy: 0.2694\n",
      "Epoch 265/500\n",
      "2/2 [==============================] - 1s 461ms/step - loss: 0.0023 - accuracy: 0.2751 - val_loss: 0.0141 - val_accuracy: 0.2689\n",
      "Epoch 266/500\n",
      "2/2 [==============================] - 1s 479ms/step - loss: 0.0024 - accuracy: 0.2917 - val_loss: 0.0134 - val_accuracy: 0.2725\n",
      "Epoch 267/500\n",
      "2/2 [==============================] - 1s 507ms/step - loss: 0.0029 - accuracy: 0.2759 - val_loss: 0.0167 - val_accuracy: 0.2748\n",
      "Epoch 268/500\n",
      "2/2 [==============================] - 1s 494ms/step - loss: 0.0027 - accuracy: 0.2734 - val_loss: 0.0134 - val_accuracy: 0.2759\n",
      "Epoch 269/500\n",
      "2/2 [==============================] - 1s 503ms/step - loss: 0.0028 - accuracy: 0.2589 - val_loss: 0.0149 - val_accuracy: 0.2718\n",
      "Epoch 270/500\n",
      "2/2 [==============================] - 1s 488ms/step - loss: 0.0025 - accuracy: 0.2683 - val_loss: 0.0137 - val_accuracy: 0.2677\n",
      "Epoch 271/500\n",
      "2/2 [==============================] - 1s 529ms/step - loss: 0.0028 - accuracy: 0.2798 - val_loss: 0.0146 - val_accuracy: 0.2674\n",
      "Epoch 272/500\n",
      "2/2 [==============================] - 1s 507ms/step - loss: 0.0025 - accuracy: 0.2589 - val_loss: 0.0155 - val_accuracy: 0.2697\n",
      "Epoch 273/500\n",
      "2/2 [==============================] - 1s 524ms/step - loss: 0.0025 - accuracy: 0.2721 - val_loss: 0.0133 - val_accuracy: 0.2730\n",
      "Epoch 274/500\n",
      "2/2 [==============================] - 1s 525ms/step - loss: 0.0029 - accuracy: 0.2738 - val_loss: 0.0155 - val_accuracy: 0.2683\n",
      "Epoch 275/500\n",
      "2/2 [==============================] - 1s 528ms/step - loss: 0.0026 - accuracy: 0.2836 - val_loss: 0.0128 - val_accuracy: 0.2622\n",
      "Epoch 276/500\n",
      "2/2 [==============================] - 1s 494ms/step - loss: 0.0023 - accuracy: 0.2870 - val_loss: 0.0126 - val_accuracy: 0.2563\n",
      "Epoch 277/500\n",
      "2/2 [==============================] - 1s 515ms/step - loss: 0.0024 - accuracy: 0.2836 - val_loss: 0.0145 - val_accuracy: 0.2533\n",
      "Epoch 278/500\n",
      "2/2 [==============================] - 1s 482ms/step - loss: 0.0027 - accuracy: 0.2721 - val_loss: 0.0119 - val_accuracy: 0.2565\n",
      "Epoch 279/500\n",
      "2/2 [==============================] - 1s 487ms/step - loss: 0.0026 - accuracy: 0.2670 - val_loss: 0.0150 - val_accuracy: 0.2623\n",
      "Epoch 280/500\n",
      "2/2 [==============================] - 1s 473ms/step - loss: 0.0028 - accuracy: 0.2853 - val_loss: 0.0125 - val_accuracy: 0.2672\n",
      "Epoch 281/500\n",
      "2/2 [==============================] - 1s 494ms/step - loss: 0.0027 - accuracy: 0.2751 - val_loss: 0.0141 - val_accuracy: 0.2684\n",
      "Epoch 282/500\n",
      "2/2 [==============================] - 1s 584ms/step - loss: 0.0027 - accuracy: 0.2836 - val_loss: 0.0126 - val_accuracy: 0.2682\n",
      "Epoch 283/500\n",
      "2/2 [==============================] - 1s 496ms/step - loss: 0.0026 - accuracy: 0.2806 - val_loss: 0.0113 - val_accuracy: 0.2681\n",
      "Epoch 284/500\n",
      "2/2 [==============================] - 1s 546ms/step - loss: 0.0025 - accuracy: 0.2785 - val_loss: 0.0135 - val_accuracy: 0.2648\n",
      "Epoch 285/500\n",
      "2/2 [==============================] - 1s 533ms/step - loss: 0.0024 - accuracy: 0.2657 - val_loss: 0.0121 - val_accuracy: 0.2648\n",
      "Epoch 286/500\n",
      "2/2 [==============================] - 1s 534ms/step - loss: 0.0022 - accuracy: 0.2815 - val_loss: 0.0126 - val_accuracy: 0.2649\n",
      "Epoch 287/500\n",
      "2/2 [==============================] - 1s 512ms/step - loss: 0.0022 - accuracy: 0.2925 - val_loss: 0.0126 - val_accuracy: 0.2646\n",
      "Epoch 288/500\n",
      "2/2 [==============================] - 1s 471ms/step - loss: 0.0025 - accuracy: 0.2815 - val_loss: 0.0120 - val_accuracy: 0.2629\n",
      "Epoch 289/500\n",
      "2/2 [==============================] - 1s 498ms/step - loss: 0.0023 - accuracy: 0.2781 - val_loss: 0.0129 - val_accuracy: 0.2625\n",
      "Epoch 290/500\n",
      "2/2 [==============================] - 1s 491ms/step - loss: 0.0028 - accuracy: 0.2708 - val_loss: 0.0130 - val_accuracy: 0.2649\n",
      "Epoch 291/500\n",
      "2/2 [==============================] - 1s 561ms/step - loss: 0.0024 - accuracy: 0.2589 - val_loss: 0.0127 - val_accuracy: 0.2661\n",
      "Epoch 292/500\n",
      "2/2 [==============================] - 1s 546ms/step - loss: 0.0024 - accuracy: 0.2844 - val_loss: 0.0157 - val_accuracy: 0.2678\n",
      "Epoch 293/500\n",
      "2/2 [==============================] - 1s 508ms/step - loss: 0.0026 - accuracy: 0.2878 - val_loss: 0.0121 - val_accuracy: 0.2717\n",
      "Epoch 294/500\n",
      "2/2 [==============================] - 1s 477ms/step - loss: 0.0031 - accuracy: 0.2721 - val_loss: 0.0148 - val_accuracy: 0.2687\n",
      "Epoch 295/500\n",
      "2/2 [==============================] - 1s 482ms/step - loss: 0.0031 - accuracy: 0.2764 - val_loss: 0.0123 - val_accuracy: 0.2665\n",
      "Epoch 296/500\n",
      "2/2 [==============================] - 1s 516ms/step - loss: 0.0023 - accuracy: 0.2764 - val_loss: 0.0112 - val_accuracy: 0.2629\n",
      "Epoch 297/500\n",
      "2/2 [==============================] - 1s 476ms/step - loss: 0.0024 - accuracy: 0.2878 - val_loss: 0.0148 - val_accuracy: 0.2552\n",
      "Epoch 298/500\n",
      "2/2 [==============================] - 1s 501ms/step - loss: 0.0029 - accuracy: 0.2577 - val_loss: 0.0116 - val_accuracy: 0.2569\n",
      "Epoch 299/500\n",
      "2/2 [==============================] - 1s 550ms/step - loss: 0.0024 - accuracy: 0.2883 - val_loss: 0.0122 - val_accuracy: 0.2558\n",
      "Epoch 300/500\n",
      "2/2 [==============================] - 1s 554ms/step - loss: 0.0024 - accuracy: 0.2768 - val_loss: 0.0128 - val_accuracy: 0.2555\n",
      "Epoch 301/500\n",
      "2/2 [==============================] - 1s 468ms/step - loss: 0.0026 - accuracy: 0.2474 - val_loss: 0.0108 - val_accuracy: 0.2586\n",
      "Epoch 302/500\n",
      "2/2 [==============================] - 1s 469ms/step - loss: 0.0021 - accuracy: 0.2615 - val_loss: 0.0119 - val_accuracy: 0.2566\n",
      "Epoch 303/500\n",
      "2/2 [==============================] - 1s 532ms/step - loss: 0.0022 - accuracy: 0.2666 - val_loss: 0.0116 - val_accuracy: 0.2570\n",
      "Epoch 304/500\n",
      "2/2 [==============================] - 1s 506ms/step - loss: 0.0023 - accuracy: 0.2662 - val_loss: 0.0112 - val_accuracy: 0.2630\n",
      "Epoch 305/500\n",
      "2/2 [==============================] - 1s 505ms/step - loss: 0.0024 - accuracy: 0.2466 - val_loss: 0.0118 - val_accuracy: 0.2698\n",
      "Epoch 306/500\n",
      "2/2 [==============================] - 1s 505ms/step - loss: 0.0022 - accuracy: 0.2742 - val_loss: 0.0115 - val_accuracy: 0.2748\n",
      "Epoch 307/500\n",
      "2/2 [==============================] - 1s 490ms/step - loss: 0.0024 - accuracy: 0.2691 - val_loss: 0.0116 - val_accuracy: 0.2773\n",
      "Epoch 308/500\n",
      "2/2 [==============================] - 1s 580ms/step - loss: 0.0024 - accuracy: 0.2815 - val_loss: 0.0113 - val_accuracy: 0.2762\n",
      "Epoch 309/500\n",
      "2/2 [==============================] - 1s 491ms/step - loss: 0.0022 - accuracy: 0.2827 - val_loss: 0.0108 - val_accuracy: 0.2743\n",
      "Epoch 310/500\n",
      "2/2 [==============================] - 1s 454ms/step - loss: 0.0022 - accuracy: 0.3108 - val_loss: 0.0118 - val_accuracy: 0.2722\n",
      "Epoch 311/500\n",
      "2/2 [==============================] - 1s 484ms/step - loss: 0.0021 - accuracy: 0.2679 - val_loss: 0.0110 - val_accuracy: 0.2685\n",
      "Epoch 312/500\n",
      "2/2 [==============================] - 1s 525ms/step - loss: 0.0023 - accuracy: 0.2751 - val_loss: 0.0114 - val_accuracy: 0.2669\n",
      "Epoch 313/500\n",
      "2/2 [==============================] - 1s 479ms/step - loss: 0.0021 - accuracy: 0.2781 - val_loss: 0.0121 - val_accuracy: 0.2646\n",
      "Epoch 314/500\n",
      "2/2 [==============================] - 1s 484ms/step - loss: 0.0022 - accuracy: 0.2725 - val_loss: 0.0112 - val_accuracy: 0.2648\n",
      "Epoch 315/500\n",
      "2/2 [==============================] - 1s 475ms/step - loss: 0.0021 - accuracy: 0.2560 - val_loss: 0.0122 - val_accuracy: 0.2621\n",
      "Epoch 316/500\n",
      "2/2 [==============================] - 1s 481ms/step - loss: 0.0020 - accuracy: 0.2963 - val_loss: 0.0120 - val_accuracy: 0.2597\n",
      "Epoch 317/500\n",
      "2/2 [==============================] - 1s 501ms/step - loss: 0.0022 - accuracy: 0.2840 - val_loss: 0.0117 - val_accuracy: 0.2598\n",
      "Epoch 318/500\n",
      "2/2 [==============================] - 1s 526ms/step - loss: 0.0021 - accuracy: 0.2636 - val_loss: 0.0117 - val_accuracy: 0.2575\n",
      "Epoch 319/500\n",
      "2/2 [==============================] - 1s 505ms/step - loss: 0.0020 - accuracy: 0.2721 - val_loss: 0.0116 - val_accuracy: 0.2585\n",
      "Epoch 320/500\n",
      "2/2 [==============================] - 1s 524ms/step - loss: 0.0021 - accuracy: 0.2959 - val_loss: 0.0113 - val_accuracy: 0.2594\n",
      "Epoch 321/500\n",
      "2/2 [==============================] - 1s 486ms/step - loss: 0.0020 - accuracy: 0.2755 - val_loss: 0.0119 - val_accuracy: 0.2620\n",
      "Epoch 322/500\n",
      "2/2 [==============================] - 1s 638ms/step - loss: 0.0020 - accuracy: 0.2840 - val_loss: 0.0121 - val_accuracy: 0.2632\n",
      "Epoch 323/500\n",
      "2/2 [==============================] - 1s 493ms/step - loss: 0.0020 - accuracy: 0.2861 - val_loss: 0.0120 - val_accuracy: 0.2651\n",
      "Epoch 324/500\n",
      "2/2 [==============================] - 1s 505ms/step - loss: 0.0021 - accuracy: 0.2653 - val_loss: 0.0134 - val_accuracy: 0.2663\n",
      "Epoch 325/500\n",
      "2/2 [==============================] - 1s 526ms/step - loss: 0.0020 - accuracy: 0.2764 - val_loss: 0.0115 - val_accuracy: 0.2690\n",
      "Epoch 326/500\n",
      "2/2 [==============================] - 1s 545ms/step - loss: 0.0024 - accuracy: 0.2785 - val_loss: 0.0137 - val_accuracy: 0.2712\n",
      "Epoch 327/500\n",
      "2/2 [==============================] - 1s 529ms/step - loss: 0.0023 - accuracy: 0.2938 - val_loss: 0.0124 - val_accuracy: 0.2721\n",
      "Epoch 328/500\n",
      "2/2 [==============================] - 1s 565ms/step - loss: 0.0020 - accuracy: 0.2708 - val_loss: 0.0118 - val_accuracy: 0.2724\n",
      "Epoch 329/500\n",
      "2/2 [==============================] - 1s 524ms/step - loss: 0.0023 - accuracy: 0.2849 - val_loss: 0.0131 - val_accuracy: 0.2671\n",
      "Epoch 330/500\n",
      "2/2 [==============================] - 1s 567ms/step - loss: 0.0021 - accuracy: 0.2908 - val_loss: 0.0124 - val_accuracy: 0.2611\n",
      "Epoch 331/500\n",
      "2/2 [==============================] - 1s 519ms/step - loss: 0.0021 - accuracy: 0.2904 - val_loss: 0.0135 - val_accuracy: 0.2571\n",
      "Epoch 332/500\n",
      "2/2 [==============================] - 1s 567ms/step - loss: 0.0019 - accuracy: 0.2853 - val_loss: 0.0122 - val_accuracy: 0.2573\n",
      "Epoch 333/500\n",
      "2/2 [==============================] - 1s 526ms/step - loss: 0.0023 - accuracy: 0.2713 - val_loss: 0.0135 - val_accuracy: 0.2593\n",
      "Epoch 334/500\n",
      "2/2 [==============================] - 1s 513ms/step - loss: 0.0019 - accuracy: 0.2874 - val_loss: 0.0139 - val_accuracy: 0.2654\n",
      "Epoch 335/500\n",
      "2/2 [==============================] - 1s 497ms/step - loss: 0.0022 - accuracy: 0.2674 - val_loss: 0.0123 - val_accuracy: 0.2664\n",
      "Epoch 336/500\n",
      "2/2 [==============================] - 1s 484ms/step - loss: 0.0021 - accuracy: 0.2844 - val_loss: 0.0141 - val_accuracy: 0.2658\n",
      "Epoch 337/500\n",
      "2/2 [==============================] - 1s 498ms/step - loss: 0.0021 - accuracy: 0.2861 - val_loss: 0.0120 - val_accuracy: 0.2665\n",
      "Epoch 338/500\n",
      "2/2 [==============================] - 1s 501ms/step - loss: 0.0022 - accuracy: 0.2857 - val_loss: 0.0123 - val_accuracy: 0.2674\n",
      "Epoch 339/500\n",
      "2/2 [==============================] - 1s 527ms/step - loss: 0.0021 - accuracy: 0.2793 - val_loss: 0.0119 - val_accuracy: 0.2692\n",
      "Epoch 340/500\n",
      "2/2 [==============================] - 1s 515ms/step - loss: 0.0020 - accuracy: 0.2810 - val_loss: 0.0114 - val_accuracy: 0.2689\n",
      "Epoch 341/500\n",
      "2/2 [==============================] - 1s 522ms/step - loss: 0.0020 - accuracy: 0.2891 - val_loss: 0.0122 - val_accuracy: 0.2655\n",
      "Epoch 342/500\n",
      "2/2 [==============================] - 1s 511ms/step - loss: 0.0021 - accuracy: 0.2832 - val_loss: 0.0126 - val_accuracy: 0.2655\n",
      "Epoch 343/500\n",
      "2/2 [==============================] - 1s 508ms/step - loss: 0.0021 - accuracy: 0.2776 - val_loss: 0.0126 - val_accuracy: 0.2654\n",
      "Epoch 344/500\n",
      "2/2 [==============================] - 1s 525ms/step - loss: 0.0023 - accuracy: 0.2806 - val_loss: 0.0138 - val_accuracy: 0.2656\n",
      "Epoch 345/500\n",
      "2/2 [==============================] - 1s 492ms/step - loss: 0.0019 - accuracy: 0.2823 - val_loss: 0.0128 - val_accuracy: 0.2663\n",
      "Epoch 346/500\n",
      "2/2 [==============================] - 1s 496ms/step - loss: 0.0020 - accuracy: 0.2853 - val_loss: 0.0140 - val_accuracy: 0.2651\n",
      "Epoch 347/500\n",
      "2/2 [==============================] - 1s 469ms/step - loss: 0.0021 - accuracy: 0.2781 - val_loss: 0.0132 - val_accuracy: 0.2670\n",
      "Epoch 348/500\n",
      "2/2 [==============================] - 1s 526ms/step - loss: 0.0020 - accuracy: 0.2853 - val_loss: 0.0127 - val_accuracy: 0.2652\n",
      "Epoch 349/500\n",
      "2/2 [==============================] - 1s 536ms/step - loss: 0.0022 - accuracy: 0.2751 - val_loss: 0.0138 - val_accuracy: 0.2604\n",
      "Epoch 350/500\n",
      "2/2 [==============================] - 1s 507ms/step - loss: 0.0019 - accuracy: 0.2623 - val_loss: 0.0127 - val_accuracy: 0.2598\n",
      "Epoch 351/500\n",
      "2/2 [==============================] - 1s 530ms/step - loss: 0.0018 - accuracy: 0.2976 - val_loss: 0.0127 - val_accuracy: 0.2611\n",
      "Epoch 352/500\n",
      "2/2 [==============================] - 1s 573ms/step - loss: 0.0019 - accuracy: 0.2925 - val_loss: 0.0139 - val_accuracy: 0.2626\n",
      "Epoch 353/500\n",
      "2/2 [==============================] - 1s 628ms/step - loss: 0.0021 - accuracy: 0.2793 - val_loss: 0.0125 - val_accuracy: 0.2635\n",
      "Epoch 354/500\n",
      "2/2 [==============================] - 1s 554ms/step - loss: 0.0020 - accuracy: 0.2912 - val_loss: 0.0132 - val_accuracy: 0.2636\n",
      "Epoch 355/500\n",
      "2/2 [==============================] - 1s 557ms/step - loss: 0.0019 - accuracy: 0.2951 - val_loss: 0.0122 - val_accuracy: 0.2624\n",
      "Epoch 356/500\n",
      "2/2 [==============================] - 1s 499ms/step - loss: 0.0021 - accuracy: 0.2925 - val_loss: 0.0139 - val_accuracy: 0.2633\n",
      "Epoch 357/500\n",
      "2/2 [==============================] - 1s 492ms/step - loss: 0.0020 - accuracy: 0.2713 - val_loss: 0.0140 - val_accuracy: 0.2640\n",
      "Epoch 358/500\n",
      "2/2 [==============================] - 1s 479ms/step - loss: 0.0021 - accuracy: 0.2895 - val_loss: 0.0124 - val_accuracy: 0.2695\n",
      "Epoch 359/500\n",
      "2/2 [==============================] - 1s 503ms/step - loss: 0.0021 - accuracy: 0.2823 - val_loss: 0.0142 - val_accuracy: 0.2683\n",
      "Epoch 360/500\n",
      "2/2 [==============================] - 1s 508ms/step - loss: 0.0020 - accuracy: 0.3014 - val_loss: 0.0127 - val_accuracy: 0.2690\n",
      "Epoch 361/500\n",
      "2/2 [==============================] - 1s 507ms/step - loss: 0.0021 - accuracy: 0.2823 - val_loss: 0.0145 - val_accuracy: 0.2685\n",
      "Epoch 362/500\n",
      "2/2 [==============================] - 1s 486ms/step - loss: 0.0021 - accuracy: 0.2687 - val_loss: 0.0139 - val_accuracy: 0.2721\n",
      "Epoch 363/500\n",
      "2/2 [==============================] - 1s 477ms/step - loss: 0.0020 - accuracy: 0.2870 - val_loss: 0.0128 - val_accuracy: 0.2732\n",
      "Epoch 364/500\n",
      "2/2 [==============================] - 1s 482ms/step - loss: 0.0019 - accuracy: 0.2878 - val_loss: 0.0151 - val_accuracy: 0.2694\n",
      "Epoch 365/500\n",
      "2/2 [==============================] - 1s 495ms/step - loss: 0.0021 - accuracy: 0.2781 - val_loss: 0.0126 - val_accuracy: 0.2683\n",
      "Epoch 366/500\n",
      "2/2 [==============================] - 1s 489ms/step - loss: 0.0019 - accuracy: 0.2985 - val_loss: 0.0137 - val_accuracy: 0.2605\n",
      "Epoch 367/500\n",
      "2/2 [==============================] - 1s 488ms/step - loss: 0.0020 - accuracy: 0.2857 - val_loss: 0.0129 - val_accuracy: 0.2538\n",
      "Epoch 368/500\n",
      "2/2 [==============================] - 1s 461ms/step - loss: 0.0020 - accuracy: 0.2883 - val_loss: 0.0122 - val_accuracy: 0.2514\n",
      "Epoch 369/500\n",
      "2/2 [==============================] - 1s 491ms/step - loss: 0.0019 - accuracy: 0.2921 - val_loss: 0.0137 - val_accuracy: 0.2495\n",
      "Epoch 370/500\n",
      "2/2 [==============================] - 1s 502ms/step - loss: 0.0022 - accuracy: 0.2878 - val_loss: 0.0117 - val_accuracy: 0.2512\n",
      "Epoch 371/500\n",
      "2/2 [==============================] - 1s 515ms/step - loss: 0.0021 - accuracy: 0.2802 - val_loss: 0.0136 - val_accuracy: 0.2556\n",
      "Epoch 372/500\n",
      "2/2 [==============================] - 1s 550ms/step - loss: 0.0023 - accuracy: 0.2640 - val_loss: 0.0114 - val_accuracy: 0.2593\n",
      "Epoch 373/500\n",
      "2/2 [==============================] - 1s 501ms/step - loss: 0.0022 - accuracy: 0.2670 - val_loss: 0.0120 - val_accuracy: 0.2640\n",
      "Epoch 374/500\n",
      "2/2 [==============================] - 1s 533ms/step - loss: 0.0020 - accuracy: 0.2785 - val_loss: 0.0129 - val_accuracy: 0.2669\n",
      "Epoch 375/500\n",
      "2/2 [==============================] - 1s 548ms/step - loss: 0.0020 - accuracy: 0.2972 - val_loss: 0.0108 - val_accuracy: 0.2690\n",
      "Epoch 376/500\n",
      "2/2 [==============================] - 1s 495ms/step - loss: 0.0021 - accuracy: 0.2844 - val_loss: 0.0132 - val_accuracy: 0.2665\n",
      "Epoch 377/500\n",
      "2/2 [==============================] - 1s 532ms/step - loss: 0.0023 - accuracy: 0.2857 - val_loss: 0.0113 - val_accuracy: 0.2655\n",
      "Epoch 378/500\n",
      "2/2 [==============================] - 1s 614ms/step - loss: 0.0021 - accuracy: 0.2840 - val_loss: 0.0120 - val_accuracy: 0.2648\n",
      "Epoch 379/500\n",
      "2/2 [==============================] - 1s 450ms/step - loss: 0.0020 - accuracy: 0.2793 - val_loss: 0.0123 - val_accuracy: 0.2653\n",
      "Epoch 380/500\n",
      "2/2 [==============================] - 1s 426ms/step - loss: 0.0019 - accuracy: 0.2772 - val_loss: 0.0114 - val_accuracy: 0.2683\n",
      "Epoch 381/500\n",
      "2/2 [==============================] - 1s 436ms/step - loss: 0.0020 - accuracy: 0.2921 - val_loss: 0.0142 - val_accuracy: 0.2755\n",
      "Epoch 382/500\n",
      "2/2 [==============================] - 0s 423ms/step - loss: 0.0022 - accuracy: 0.3010 - val_loss: 0.0116 - val_accuracy: 0.2823\n",
      "Epoch 383/500\n",
      "2/2 [==============================] - 0s 426ms/step - loss: 0.0020 - accuracy: 0.2870 - val_loss: 0.0129 - val_accuracy: 0.2857\n",
      "Epoch 384/500\n",
      "2/2 [==============================] - 0s 414ms/step - loss: 0.0019 - accuracy: 0.2755 - val_loss: 0.0132 - val_accuracy: 0.2887\n",
      "Epoch 385/500\n",
      "2/2 [==============================] - 1s 465ms/step - loss: 0.0019 - accuracy: 0.2768 - val_loss: 0.0115 - val_accuracy: 0.2826\n",
      "Epoch 386/500\n",
      "2/2 [==============================] - 0s 400ms/step - loss: 0.0020 - accuracy: 0.2917 - val_loss: 0.0134 - val_accuracy: 0.2749\n",
      "Epoch 387/500\n",
      "2/2 [==============================] - 0s 405ms/step - loss: 0.0021 - accuracy: 0.3002 - val_loss: 0.0121 - val_accuracy: 0.2681\n",
      "Epoch 388/500\n",
      "2/2 [==============================] - 1s 466ms/step - loss: 0.0021 - accuracy: 0.2649 - val_loss: 0.0117 - val_accuracy: 0.2610\n",
      "Epoch 389/500\n",
      "2/2 [==============================] - 0s 415ms/step - loss: 0.0019 - accuracy: 0.2691 - val_loss: 0.0145 - val_accuracy: 0.2586\n",
      "Epoch 390/500\n",
      "2/2 [==============================] - 0s 412ms/step - loss: 0.0023 - accuracy: 0.2789 - val_loss: 0.0120 - val_accuracy: 0.2613\n",
      "Epoch 391/500\n",
      "2/2 [==============================] - 0s 415ms/step - loss: 0.0021 - accuracy: 0.2840 - val_loss: 0.0124 - val_accuracy: 0.2628\n",
      "Epoch 392/500\n",
      "2/2 [==============================] - 1s 425ms/step - loss: 0.0019 - accuracy: 0.2606 - val_loss: 0.0138 - val_accuracy: 0.2620\n",
      "Epoch 393/500\n",
      "2/2 [==============================] - 1s 441ms/step - loss: 0.0021 - accuracy: 0.2832 - val_loss: 0.0116 - val_accuracy: 0.2652\n",
      "Epoch 394/500\n",
      "2/2 [==============================] - 1s 436ms/step - loss: 0.0020 - accuracy: 0.2840 - val_loss: 0.0132 - val_accuracy: 0.2671\n",
      "Epoch 395/500\n",
      "2/2 [==============================] - 1s 432ms/step - loss: 0.0020 - accuracy: 0.2887 - val_loss: 0.0116 - val_accuracy: 0.2766\n",
      "Epoch 396/500\n",
      "2/2 [==============================] - 1s 429ms/step - loss: 0.0020 - accuracy: 0.2704 - val_loss: 0.0124 - val_accuracy: 0.2870\n",
      "Epoch 397/500\n",
      "2/2 [==============================] - 1s 428ms/step - loss: 0.0019 - accuracy: 0.2874 - val_loss: 0.0125 - val_accuracy: 0.2927\n",
      "Epoch 398/500\n",
      "2/2 [==============================] - 1s 436ms/step - loss: 0.0020 - accuracy: 0.2921 - val_loss: 0.0119 - val_accuracy: 0.2910\n",
      "Epoch 399/500\n",
      "2/2 [==============================] - 1s 433ms/step - loss: 0.0019 - accuracy: 0.2781 - val_loss: 0.0127 - val_accuracy: 0.2839\n",
      "Epoch 400/500\n",
      "2/2 [==============================] - 0s 413ms/step - loss: 0.0018 - accuracy: 0.2951 - val_loss: 0.0120 - val_accuracy: 0.2756\n",
      "Epoch 401/500\n",
      "2/2 [==============================] - 1s 493ms/step - loss: 0.0019 - accuracy: 0.2819 - val_loss: 0.0122 - val_accuracy: 0.2681\n",
      "Epoch 402/500\n",
      "2/2 [==============================] - 1s 474ms/step - loss: 0.0018 - accuracy: 0.2500 - val_loss: 0.0133 - val_accuracy: 0.2638\n",
      "Epoch 403/500\n",
      "2/2 [==============================] - 1s 434ms/step - loss: 0.0018 - accuracy: 0.2827 - val_loss: 0.0130 - val_accuracy: 0.2624\n",
      "Epoch 404/500\n",
      "2/2 [==============================] - 1s 421ms/step - loss: 0.0018 - accuracy: 0.2772 - val_loss: 0.0140 - val_accuracy: 0.2621\n",
      "Epoch 405/500\n",
      "2/2 [==============================] - 0s 424ms/step - loss: 0.0017 - accuracy: 0.2704 - val_loss: 0.0135 - val_accuracy: 0.2654\n",
      "Epoch 406/500\n",
      "2/2 [==============================] - 0s 416ms/step - loss: 0.0018 - accuracy: 0.2806 - val_loss: 0.0136 - val_accuracy: 0.2670\n",
      "Epoch 407/500\n",
      "2/2 [==============================] - 1s 439ms/step - loss: 0.0017 - accuracy: 0.2925 - val_loss: 0.0135 - val_accuracy: 0.2682\n",
      "Epoch 408/500\n",
      "2/2 [==============================] - 0s 428ms/step - loss: 0.0017 - accuracy: 0.2908 - val_loss: 0.0144 - val_accuracy: 0.2702\n",
      "Epoch 409/500\n",
      "2/2 [==============================] - 1s 541ms/step - loss: 0.0018 - accuracy: 0.2934 - val_loss: 0.0135 - val_accuracy: 0.2728\n",
      "Epoch 410/500\n",
      "2/2 [==============================] - 1s 492ms/step - loss: 0.0016 - accuracy: 0.2917 - val_loss: 0.0137 - val_accuracy: 0.2718\n",
      "Epoch 411/500\n",
      "2/2 [==============================] - 0s 415ms/step - loss: 0.0017 - accuracy: 0.2785 - val_loss: 0.0148 - val_accuracy: 0.2679\n",
      "Epoch 412/500\n",
      "2/2 [==============================] - 1s 447ms/step - loss: 0.0019 - accuracy: 0.2968 - val_loss: 0.0130 - val_accuracy: 0.2629\n",
      "Epoch 413/500\n",
      "2/2 [==============================] - 1s 458ms/step - loss: 0.0019 - accuracy: 0.2772 - val_loss: 0.0149 - val_accuracy: 0.2579\n",
      "Epoch 414/500\n",
      "2/2 [==============================] - 1s 444ms/step - loss: 0.0020 - accuracy: 0.2866 - val_loss: 0.0149 - val_accuracy: 0.2589\n",
      "Epoch 415/500\n",
      "2/2 [==============================] - 0s 430ms/step - loss: 0.0018 - accuracy: 0.2742 - val_loss: 0.0123 - val_accuracy: 0.2637\n",
      "Epoch 416/500\n",
      "2/2 [==============================] - 0s 426ms/step - loss: 0.0020 - accuracy: 0.2866 - val_loss: 0.0166 - val_accuracy: 0.2672\n",
      "Epoch 417/500\n",
      "2/2 [==============================] - 1s 504ms/step - loss: 0.0022 - accuracy: 0.2785 - val_loss: 0.0124 - val_accuracy: 0.2741\n",
      "Epoch 418/500\n",
      "2/2 [==============================] - 1s 423ms/step - loss: 0.0021 - accuracy: 0.2849 - val_loss: 0.0135 - val_accuracy: 0.2760\n",
      "Epoch 419/500\n",
      "2/2 [==============================] - 1s 437ms/step - loss: 0.0017 - accuracy: 0.3159 - val_loss: 0.0143 - val_accuracy: 0.2754\n",
      "Epoch 420/500\n",
      "2/2 [==============================] - 1s 491ms/step - loss: 0.0017 - accuracy: 0.2759 - val_loss: 0.0120 - val_accuracy: 0.2769\n",
      "Epoch 421/500\n",
      "2/2 [==============================] - 0s 429ms/step - loss: 0.0021 - accuracy: 0.2832 - val_loss: 0.0146 - val_accuracy: 0.2763\n",
      "Epoch 422/500\n",
      "2/2 [==============================] - 1s 427ms/step - loss: 0.0018 - accuracy: 0.2900 - val_loss: 0.0139 - val_accuracy: 0.2754\n",
      "Epoch 423/500\n",
      "2/2 [==============================] - 0s 417ms/step - loss: 0.0019 - accuracy: 0.2764 - val_loss: 0.0126 - val_accuracy: 0.2719\n",
      "Epoch 424/500\n",
      "2/2 [==============================] - 0s 412ms/step - loss: 0.0018 - accuracy: 0.2725 - val_loss: 0.0149 - val_accuracy: 0.2664\n",
      "Epoch 425/500\n",
      "2/2 [==============================] - 0s 394ms/step - loss: 0.0021 - accuracy: 0.2802 - val_loss: 0.0122 - val_accuracy: 0.2606\n",
      "Epoch 426/500\n",
      "2/2 [==============================] - 0s 404ms/step - loss: 0.0017 - accuracy: 0.2866 - val_loss: 0.0125 - val_accuracy: 0.2559\n",
      "Epoch 427/500\n",
      "2/2 [==============================] - 1s 446ms/step - loss: 0.0019 - accuracy: 0.2878 - val_loss: 0.0136 - val_accuracy: 0.2576\n",
      "Epoch 428/500\n",
      "2/2 [==============================] - 1s 440ms/step - loss: 0.0019 - accuracy: 0.2738 - val_loss: 0.0118 - val_accuracy: 0.2635\n",
      "Epoch 429/500\n",
      "2/2 [==============================] - 1s 422ms/step - loss: 0.0019 - accuracy: 0.3087 - val_loss: 0.0152 - val_accuracy: 0.2696\n",
      "Epoch 430/500\n",
      "2/2 [==============================] - 1s 437ms/step - loss: 0.0019 - accuracy: 0.2853 - val_loss: 0.0128 - val_accuracy: 0.2756\n",
      "Epoch 431/500\n",
      "2/2 [==============================] - 0s 412ms/step - loss: 0.0019 - accuracy: 0.3048 - val_loss: 0.0132 - val_accuracy: 0.2764\n",
      "Epoch 432/500\n",
      "2/2 [==============================] - 1s 441ms/step - loss: 0.0018 - accuracy: 0.2985 - val_loss: 0.0161 - val_accuracy: 0.2750\n",
      "Epoch 433/500\n",
      "2/2 [==============================] - 1s 432ms/step - loss: 0.0021 - accuracy: 0.2968 - val_loss: 0.0125 - val_accuracy: 0.2750\n",
      "Epoch 434/500\n",
      "2/2 [==============================] - 1s 432ms/step - loss: 0.0019 - accuracy: 0.2861 - val_loss: 0.0139 - val_accuracy: 0.2734\n",
      "Epoch 435/500\n",
      "2/2 [==============================] - 1s 445ms/step - loss: 0.0017 - accuracy: 0.2968 - val_loss: 0.0138 - val_accuracy: 0.2681\n",
      "Epoch 436/500\n",
      "2/2 [==============================] - 1s 432ms/step - loss: 0.0018 - accuracy: 0.2951 - val_loss: 0.0120 - val_accuracy: 0.2665\n",
      "Epoch 437/500\n",
      "2/2 [==============================] - 0s 420ms/step - loss: 0.0018 - accuracy: 0.3074 - val_loss: 0.0135 - val_accuracy: 0.2626\n",
      "Epoch 438/500\n",
      "2/2 [==============================] - 1s 436ms/step - loss: 0.0017 - accuracy: 0.2925 - val_loss: 0.0138 - val_accuracy: 0.2617\n",
      "Epoch 439/500\n",
      "2/2 [==============================] - 1s 453ms/step - loss: 0.0016 - accuracy: 0.2925 - val_loss: 0.0115 - val_accuracy: 0.2635\n",
      "Epoch 440/500\n",
      "2/2 [==============================] - 1s 439ms/step - loss: 0.0021 - accuracy: 0.2946 - val_loss: 0.0131 - val_accuracy: 0.2617\n",
      "Epoch 441/500\n",
      "2/2 [==============================] - 1s 471ms/step - loss: 0.0018 - accuracy: 0.2861 - val_loss: 0.0129 - val_accuracy: 0.2642\n",
      "Epoch 442/500\n",
      "2/2 [==============================] - 1s 443ms/step - loss: 0.0019 - accuracy: 0.2772 - val_loss: 0.0111 - val_accuracy: 0.2664\n",
      "Epoch 443/500\n",
      "2/2 [==============================] - 1s 511ms/step - loss: 0.0018 - accuracy: 0.2670 - val_loss: 0.0136 - val_accuracy: 0.2637\n",
      "Epoch 444/500\n",
      "2/2 [==============================] - 0s 416ms/step - loss: 0.0018 - accuracy: 0.2904 - val_loss: 0.0115 - val_accuracy: 0.2673\n",
      "Epoch 445/500\n",
      "2/2 [==============================] - 1s 479ms/step - loss: 0.0021 - accuracy: 0.2895 - val_loss: 0.0114 - val_accuracy: 0.2691\n",
      "Epoch 446/500\n",
      "2/2 [==============================] - 1s 445ms/step - loss: 0.0018 - accuracy: 0.2853 - val_loss: 0.0131 - val_accuracy: 0.2718\n",
      "Epoch 447/500\n",
      "2/2 [==============================] - 1s 499ms/step - loss: 0.0017 - accuracy: 0.2925 - val_loss: 0.0119 - val_accuracy: 0.2754\n",
      "Epoch 448/500\n",
      "2/2 [==============================] - 1s 423ms/step - loss: 0.0018 - accuracy: 0.2989 - val_loss: 0.0126 - val_accuracy: 0.2772\n",
      "Epoch 449/500\n",
      "2/2 [==============================] - 1s 460ms/step - loss: 0.0016 - accuracy: 0.2887 - val_loss: 0.0134 - val_accuracy: 0.2761\n",
      "Epoch 450/500\n",
      "2/2 [==============================] - 0s 423ms/step - loss: 0.0018 - accuracy: 0.3185 - val_loss: 0.0139 - val_accuracy: 0.2737\n",
      "Epoch 451/500\n",
      "2/2 [==============================] - 1s 438ms/step - loss: 0.0019 - accuracy: 0.2789 - val_loss: 0.0122 - val_accuracy: 0.2724\n",
      "Epoch 452/500\n",
      "2/2 [==============================] - 1s 433ms/step - loss: 0.0021 - accuracy: 0.2934 - val_loss: 0.0140 - val_accuracy: 0.2726\n",
      "Epoch 453/500\n",
      "2/2 [==============================] - 1s 458ms/step - loss: 0.0018 - accuracy: 0.2844 - val_loss: 0.0133 - val_accuracy: 0.2759\n",
      "Epoch 454/500\n",
      "2/2 [==============================] - 1s 419ms/step - loss: 0.0017 - accuracy: 0.3095 - val_loss: 0.0122 - val_accuracy: 0.2779\n",
      "Epoch 455/500\n",
      "2/2 [==============================] - 0s 425ms/step - loss: 0.0016 - accuracy: 0.2891 - val_loss: 0.0145 - val_accuracy: 0.2732\n",
      "Epoch 456/500\n",
      "2/2 [==============================] - 1s 573ms/step - loss: 0.0018 - accuracy: 0.2853 - val_loss: 0.0129 - val_accuracy: 0.2737\n",
      "Epoch 457/500\n",
      "2/2 [==============================] - 1s 532ms/step - loss: 0.0018 - accuracy: 0.2866 - val_loss: 0.0128 - val_accuracy: 0.2789\n",
      "Epoch 458/500\n",
      "2/2 [==============================] - 1s 487ms/step - loss: 0.0018 - accuracy: 0.2921 - val_loss: 0.0154 - val_accuracy: 0.2774\n",
      "Epoch 459/500\n",
      "2/2 [==============================] - 1s 463ms/step - loss: 0.0019 - accuracy: 0.2747 - val_loss: 0.0126 - val_accuracy: 0.2769\n",
      "Epoch 460/500\n",
      "2/2 [==============================] - 1s 500ms/step - loss: 0.0019 - accuracy: 0.3146 - val_loss: 0.0151 - val_accuracy: 0.2761\n",
      "Epoch 461/500\n",
      "2/2 [==============================] - 1s 481ms/step - loss: 0.0019 - accuracy: 0.2921 - val_loss: 0.0147 - val_accuracy: 0.2777\n",
      "Epoch 462/500\n",
      "2/2 [==============================] - 1s 518ms/step - loss: 0.0018 - accuracy: 0.3023 - val_loss: 0.0125 - val_accuracy: 0.2786\n",
      "Epoch 463/500\n",
      "2/2 [==============================] - 1s 463ms/step - loss: 0.0019 - accuracy: 0.3010 - val_loss: 0.0156 - val_accuracy: 0.2747\n",
      "Epoch 464/500\n",
      "2/2 [==============================] - 1s 493ms/step - loss: 0.0019 - accuracy: 0.2951 - val_loss: 0.0128 - val_accuracy: 0.2777\n",
      "Epoch 465/500\n",
      "2/2 [==============================] - 1s 518ms/step - loss: 0.0016 - accuracy: 0.2738 - val_loss: 0.0134 - val_accuracy: 0.2790\n",
      "Epoch 466/500\n",
      "2/2 [==============================] - 1s 433ms/step - loss: 0.0017 - accuracy: 0.2976 - val_loss: 0.0135 - val_accuracy: 0.2785\n",
      "Epoch 467/500\n",
      "2/2 [==============================] - 1s 476ms/step - loss: 0.0016 - accuracy: 0.2883 - val_loss: 0.0130 - val_accuracy: 0.2770\n",
      "Epoch 468/500\n",
      "2/2 [==============================] - 1s 455ms/step - loss: 0.0015 - accuracy: 0.2742 - val_loss: 0.0130 - val_accuracy: 0.2751\n",
      "Epoch 469/500\n",
      "2/2 [==============================] - 1s 539ms/step - loss: 0.0016 - accuracy: 0.2870 - val_loss: 0.0142 - val_accuracy: 0.2761\n",
      "Epoch 470/500\n",
      "2/2 [==============================] - 1s 478ms/step - loss: 0.0020 - accuracy: 0.2840 - val_loss: 0.0128 - val_accuracy: 0.2753\n",
      "Epoch 471/500\n",
      "2/2 [==============================] - 1s 495ms/step - loss: 0.0017 - accuracy: 0.3108 - val_loss: 0.0125 - val_accuracy: 0.2741\n",
      "Epoch 472/500\n",
      "2/2 [==============================] - 1s 487ms/step - loss: 0.0016 - accuracy: 0.2883 - val_loss: 0.0127 - val_accuracy: 0.2714\n",
      "Epoch 473/500\n",
      "2/2 [==============================] - 1s 455ms/step - loss: 0.0016 - accuracy: 0.2861 - val_loss: 0.0118 - val_accuracy: 0.2674\n",
      "Epoch 474/500\n",
      "2/2 [==============================] - 1s 471ms/step - loss: 0.0018 - accuracy: 0.2925 - val_loss: 0.0122 - val_accuracy: 0.2718\n",
      "Epoch 475/500\n",
      "2/2 [==============================] - 1s 506ms/step - loss: 0.0015 - accuracy: 0.2955 - val_loss: 0.0121 - val_accuracy: 0.2799\n",
      "Epoch 476/500\n",
      "2/2 [==============================] - 1s 495ms/step - loss: 0.0016 - accuracy: 0.2989 - val_loss: 0.0113 - val_accuracy: 0.2826\n",
      "Epoch 477/500\n",
      "2/2 [==============================] - 1s 474ms/step - loss: 0.0016 - accuracy: 0.2904 - val_loss: 0.0121 - val_accuracy: 0.2808\n",
      "Epoch 478/500\n",
      "2/2 [==============================] - 1s 483ms/step - loss: 0.0017 - accuracy: 0.2959 - val_loss: 0.0122 - val_accuracy: 0.2791\n",
      "Epoch 479/500\n",
      "2/2 [==============================] - 1s 455ms/step - loss: 0.0018 - accuracy: 0.3036 - val_loss: 0.0128 - val_accuracy: 0.2814\n",
      "Epoch 480/500\n",
      "2/2 [==============================] - 1s 478ms/step - loss: 0.0017 - accuracy: 0.2857 - val_loss: 0.0116 - val_accuracy: 0.2829\n",
      "Epoch 481/500\n",
      "2/2 [==============================] - 1s 454ms/step - loss: 0.0015 - accuracy: 0.3151 - val_loss: 0.0114 - val_accuracy: 0.2847\n",
      "Epoch 482/500\n",
      "2/2 [==============================] - 1s 473ms/step - loss: 0.0016 - accuracy: 0.2815 - val_loss: 0.0129 - val_accuracy: 0.2784\n",
      "Epoch 483/500\n",
      "2/2 [==============================] - 1s 459ms/step - loss: 0.0016 - accuracy: 0.2921 - val_loss: 0.0122 - val_accuracy: 0.2751\n",
      "Epoch 484/500\n",
      "2/2 [==============================] - 1s 466ms/step - loss: 0.0016 - accuracy: 0.2827 - val_loss: 0.0122 - val_accuracy: 0.2757\n",
      "Epoch 485/500\n",
      "2/2 [==============================] - 1s 542ms/step - loss: 0.0017 - accuracy: 0.2764 - val_loss: 0.0129 - val_accuracy: 0.2707\n",
      "Epoch 486/500\n",
      "2/2 [==============================] - 1s 512ms/step - loss: 0.0016 - accuracy: 0.2861 - val_loss: 0.0119 - val_accuracy: 0.2667\n",
      "Epoch 487/500\n",
      "2/2 [==============================] - 1s 500ms/step - loss: 0.0017 - accuracy: 0.2938 - val_loss: 0.0120 - val_accuracy: 0.2637\n",
      "Epoch 488/500\n",
      "2/2 [==============================] - 1s 569ms/step - loss: 0.0017 - accuracy: 0.3010 - val_loss: 0.0131 - val_accuracy: 0.2628\n",
      "Epoch 489/500\n",
      "2/2 [==============================] - 1s 550ms/step - loss: 0.0016 - accuracy: 0.2866 - val_loss: 0.0123 - val_accuracy: 0.2656\n",
      "Epoch 490/500\n",
      "2/2 [==============================] - 1s 488ms/step - loss: 0.0017 - accuracy: 0.2781 - val_loss: 0.0125 - val_accuracy: 0.2685\n",
      "Epoch 491/500\n",
      "2/2 [==============================] - 1s 477ms/step - loss: 0.0016 - accuracy: 0.2806 - val_loss: 0.0125 - val_accuracy: 0.2689\n",
      "Epoch 492/500\n",
      "2/2 [==============================] - 1s 442ms/step - loss: 0.0016 - accuracy: 0.3006 - val_loss: 0.0120 - val_accuracy: 0.2678\n",
      "Epoch 493/500\n",
      "2/2 [==============================] - 1s 487ms/step - loss: 0.0017 - accuracy: 0.2921 - val_loss: 0.0132 - val_accuracy: 0.2712\n",
      "Epoch 494/500\n",
      "2/2 [==============================] - 1s 521ms/step - loss: 0.0017 - accuracy: 0.2874 - val_loss: 0.0120 - val_accuracy: 0.2727\n",
      "Epoch 495/500\n",
      "2/2 [==============================] - 1s 491ms/step - loss: 0.0016 - accuracy: 0.2946 - val_loss: 0.0125 - val_accuracy: 0.2713\n",
      "Epoch 496/500\n",
      "2/2 [==============================] - 1s 461ms/step - loss: 0.0016 - accuracy: 0.2993 - val_loss: 0.0133 - val_accuracy: 0.2707\n",
      "Epoch 497/500\n",
      "2/2 [==============================] - 1s 476ms/step - loss: 0.0016 - accuracy: 0.2883 - val_loss: 0.0116 - val_accuracy: 0.2714\n",
      "Epoch 498/500\n",
      "2/2 [==============================] - 1s 477ms/step - loss: 0.0018 - accuracy: 0.2776 - val_loss: 0.0127 - val_accuracy: 0.2758\n",
      "Epoch 499/500\n",
      "2/2 [==============================] - 1s 478ms/step - loss: 0.0016 - accuracy: 0.3087 - val_loss: 0.0125 - val_accuracy: 0.2779\n",
      "Epoch 500/500\n",
      "2/2 [==============================] - 1s 473ms/step - loss: 0.0017 - accuracy: 0.2985 - val_loss: 0.0130 - val_accuracy: 0.2798\n",
      "56/56 [==============================] - 1s 10ms/step - loss: 0.0130 - accuracy: 0.2798\n"
     ]
    }
   ],
   "source": [
    "X_split = transformer.split_data(X, 0.1)\n",
    "y_split = transformer.split_data(y, 0.1)\n",
    "indexes = transformer.split_data(indexes, 0.1)\n",
    "\n",
    "model = RnnPredictCandles(\n",
    "    input_shape=X.shape[1:],\n",
    "    output_shape=y.shape[1:],\n",
    "    epochs=500\n",
    ")\n",
    "model.verbose = 1\n",
    "model.batch_size = 128\n",
    "model.build_model()\n",
    "model.fit_train_test(X_split[0], y_split[0], X_split[1], y_split[1])\n"
   ]
  },
  {
   "cell_type": "code",
   "execution_count": 9,
   "metadata": {},
   "outputs": [
    {
     "name": "stdout",
     "output_type": "stream",
     "text": [
      "56/56 [==============================] - 1s 10ms/step\n",
      "predicted: [[19715.967 19990.656 19467.525 19635.617]\n",
      " [19486.096 19973.516 19507.432 19739.744]\n",
      " [19419.613 19699.055 19142.906 19781.81 ]\n",
      " [19522.627 19847.287 19312.758 19523.424]\n",
      " [19264.22  19881.06  19221.936 19452.102]\n",
      " [19047.38  19601.611 19240.533 19356.807]\n",
      " [19392.996 19856.625 19399.451 19436.871]\n",
      " [19698.469 19765.432 19177.205 19383.066]\n",
      " [19610.242 19869.783 18978.904 19730.422]\n",
      " [19464.537 19613.455 19500.447 19559.07 ]\n",
      " [19707.746 19631.15  19519.928 19675.234]\n",
      " [19337.562 19953.197 19396.127 19740.084]]\n"
     ]
    }
   ],
   "source": [
    "predicted = model.predict(X_split[1])\n",
    "predicted = transformer.inverse_min_max_scaler_y(predicted[-1])\n",
    "print(f'predicted: {predicted}')"
   ]
  },
  {
   "cell_type": "markdown",
   "metadata": {},
   "source": [
    "# Predict real time for the next 12 Hours (candles)"
   ]
  },
  {
   "cell_type": "code",
   "execution_count": 10,
   "metadata": {},
   "outputs": [
    {
     "data": {
      "application/vnd.plotly.v1+json": {
       "config": {
        "plotlyServerURL": "https://plot.ly"
       },
       "data": [
        {
         "close": [
          19635.6171875,
          19739.744140625,
          19781.810546875,
          19523.423828125,
          19452.1015625,
          19356.806640625,
          19436.87109375,
          19383.06640625,
          19730.421875,
          19559.0703125,
          19675.234375,
          19740.083984375
         ],
         "high": [
          19990.65625,
          19973.515625,
          19699.0546875,
          19847.287109375,
          19881.060546875,
          19601.611328125,
          19856.625,
          19765.431640625,
          19869.783203125,
          19613.455078125,
          19631.150390625,
          19953.197265625
         ],
         "low": [
          19467.525390625,
          19507.431640625,
          19142.90625,
          19312.7578125,
          19221.935546875,
          19240.533203125,
          19399.451171875,
          19177.205078125,
          18978.904296875,
          19500.447265625,
          19519.927734375,
          19396.126953125
         ],
         "open": [
          19715.966796875,
          19486.095703125,
          19419.61328125,
          19522.626953125,
          19264.220703125,
          19047.380859375,
          19392.99609375,
          19698.46875,
          19610.2421875,
          19464.537109375,
          19707.74609375,
          19337.5625
         ],
         "type": "candlestick",
         "x": [
          0,
          1,
          2,
          3,
          4,
          5,
          6,
          7,
          8,
          9,
          10,
          11
         ]
        }
       ],
       "layout": {
        "template": {
         "data": {
          "bar": [
           {
            "error_x": {
             "color": "#2a3f5f"
            },
            "error_y": {
             "color": "#2a3f5f"
            },
            "marker": {
             "line": {
              "color": "#E5ECF6",
              "width": 0.5
             },
             "pattern": {
              "fillmode": "overlay",
              "size": 10,
              "solidity": 0.2
             }
            },
            "type": "bar"
           }
          ],
          "barpolar": [
           {
            "marker": {
             "line": {
              "color": "#E5ECF6",
              "width": 0.5
             },
             "pattern": {
              "fillmode": "overlay",
              "size": 10,
              "solidity": 0.2
             }
            },
            "type": "barpolar"
           }
          ],
          "carpet": [
           {
            "aaxis": {
             "endlinecolor": "#2a3f5f",
             "gridcolor": "white",
             "linecolor": "white",
             "minorgridcolor": "white",
             "startlinecolor": "#2a3f5f"
            },
            "baxis": {
             "endlinecolor": "#2a3f5f",
             "gridcolor": "white",
             "linecolor": "white",
             "minorgridcolor": "white",
             "startlinecolor": "#2a3f5f"
            },
            "type": "carpet"
           }
          ],
          "choropleth": [
           {
            "colorbar": {
             "outlinewidth": 0,
             "ticks": ""
            },
            "type": "choropleth"
           }
          ],
          "contour": [
           {
            "colorbar": {
             "outlinewidth": 0,
             "ticks": ""
            },
            "colorscale": [
             [
              0,
              "#0d0887"
             ],
             [
              0.1111111111111111,
              "#46039f"
             ],
             [
              0.2222222222222222,
              "#7201a8"
             ],
             [
              0.3333333333333333,
              "#9c179e"
             ],
             [
              0.4444444444444444,
              "#bd3786"
             ],
             [
              0.5555555555555556,
              "#d8576b"
             ],
             [
              0.6666666666666666,
              "#ed7953"
             ],
             [
              0.7777777777777778,
              "#fb9f3a"
             ],
             [
              0.8888888888888888,
              "#fdca26"
             ],
             [
              1,
              "#f0f921"
             ]
            ],
            "type": "contour"
           }
          ],
          "contourcarpet": [
           {
            "colorbar": {
             "outlinewidth": 0,
             "ticks": ""
            },
            "type": "contourcarpet"
           }
          ],
          "heatmap": [
           {
            "colorbar": {
             "outlinewidth": 0,
             "ticks": ""
            },
            "colorscale": [
             [
              0,
              "#0d0887"
             ],
             [
              0.1111111111111111,
              "#46039f"
             ],
             [
              0.2222222222222222,
              "#7201a8"
             ],
             [
              0.3333333333333333,
              "#9c179e"
             ],
             [
              0.4444444444444444,
              "#bd3786"
             ],
             [
              0.5555555555555556,
              "#d8576b"
             ],
             [
              0.6666666666666666,
              "#ed7953"
             ],
             [
              0.7777777777777778,
              "#fb9f3a"
             ],
             [
              0.8888888888888888,
              "#fdca26"
             ],
             [
              1,
              "#f0f921"
             ]
            ],
            "type": "heatmap"
           }
          ],
          "heatmapgl": [
           {
            "colorbar": {
             "outlinewidth": 0,
             "ticks": ""
            },
            "colorscale": [
             [
              0,
              "#0d0887"
             ],
             [
              0.1111111111111111,
              "#46039f"
             ],
             [
              0.2222222222222222,
              "#7201a8"
             ],
             [
              0.3333333333333333,
              "#9c179e"
             ],
             [
              0.4444444444444444,
              "#bd3786"
             ],
             [
              0.5555555555555556,
              "#d8576b"
             ],
             [
              0.6666666666666666,
              "#ed7953"
             ],
             [
              0.7777777777777778,
              "#fb9f3a"
             ],
             [
              0.8888888888888888,
              "#fdca26"
             ],
             [
              1,
              "#f0f921"
             ]
            ],
            "type": "heatmapgl"
           }
          ],
          "histogram": [
           {
            "marker": {
             "pattern": {
              "fillmode": "overlay",
              "size": 10,
              "solidity": 0.2
             }
            },
            "type": "histogram"
           }
          ],
          "histogram2d": [
           {
            "colorbar": {
             "outlinewidth": 0,
             "ticks": ""
            },
            "colorscale": [
             [
              0,
              "#0d0887"
             ],
             [
              0.1111111111111111,
              "#46039f"
             ],
             [
              0.2222222222222222,
              "#7201a8"
             ],
             [
              0.3333333333333333,
              "#9c179e"
             ],
             [
              0.4444444444444444,
              "#bd3786"
             ],
             [
              0.5555555555555556,
              "#d8576b"
             ],
             [
              0.6666666666666666,
              "#ed7953"
             ],
             [
              0.7777777777777778,
              "#fb9f3a"
             ],
             [
              0.8888888888888888,
              "#fdca26"
             ],
             [
              1,
              "#f0f921"
             ]
            ],
            "type": "histogram2d"
           }
          ],
          "histogram2dcontour": [
           {
            "colorbar": {
             "outlinewidth": 0,
             "ticks": ""
            },
            "colorscale": [
             [
              0,
              "#0d0887"
             ],
             [
              0.1111111111111111,
              "#46039f"
             ],
             [
              0.2222222222222222,
              "#7201a8"
             ],
             [
              0.3333333333333333,
              "#9c179e"
             ],
             [
              0.4444444444444444,
              "#bd3786"
             ],
             [
              0.5555555555555556,
              "#d8576b"
             ],
             [
              0.6666666666666666,
              "#ed7953"
             ],
             [
              0.7777777777777778,
              "#fb9f3a"
             ],
             [
              0.8888888888888888,
              "#fdca26"
             ],
             [
              1,
              "#f0f921"
             ]
            ],
            "type": "histogram2dcontour"
           }
          ],
          "mesh3d": [
           {
            "colorbar": {
             "outlinewidth": 0,
             "ticks": ""
            },
            "type": "mesh3d"
           }
          ],
          "parcoords": [
           {
            "line": {
             "colorbar": {
              "outlinewidth": 0,
              "ticks": ""
             }
            },
            "type": "parcoords"
           }
          ],
          "pie": [
           {
            "automargin": true,
            "type": "pie"
           }
          ],
          "scatter": [
           {
            "fillpattern": {
             "fillmode": "overlay",
             "size": 10,
             "solidity": 0.2
            },
            "type": "scatter"
           }
          ],
          "scatter3d": [
           {
            "line": {
             "colorbar": {
              "outlinewidth": 0,
              "ticks": ""
             }
            },
            "marker": {
             "colorbar": {
              "outlinewidth": 0,
              "ticks": ""
             }
            },
            "type": "scatter3d"
           }
          ],
          "scattercarpet": [
           {
            "marker": {
             "colorbar": {
              "outlinewidth": 0,
              "ticks": ""
             }
            },
            "type": "scattercarpet"
           }
          ],
          "scattergeo": [
           {
            "marker": {
             "colorbar": {
              "outlinewidth": 0,
              "ticks": ""
             }
            },
            "type": "scattergeo"
           }
          ],
          "scattergl": [
           {
            "marker": {
             "colorbar": {
              "outlinewidth": 0,
              "ticks": ""
             }
            },
            "type": "scattergl"
           }
          ],
          "scattermapbox": [
           {
            "marker": {
             "colorbar": {
              "outlinewidth": 0,
              "ticks": ""
             }
            },
            "type": "scattermapbox"
           }
          ],
          "scatterpolar": [
           {
            "marker": {
             "colorbar": {
              "outlinewidth": 0,
              "ticks": ""
             }
            },
            "type": "scatterpolar"
           }
          ],
          "scatterpolargl": [
           {
            "marker": {
             "colorbar": {
              "outlinewidth": 0,
              "ticks": ""
             }
            },
            "type": "scatterpolargl"
           }
          ],
          "scatterternary": [
           {
            "marker": {
             "colorbar": {
              "outlinewidth": 0,
              "ticks": ""
             }
            },
            "type": "scatterternary"
           }
          ],
          "surface": [
           {
            "colorbar": {
             "outlinewidth": 0,
             "ticks": ""
            },
            "colorscale": [
             [
              0,
              "#0d0887"
             ],
             [
              0.1111111111111111,
              "#46039f"
             ],
             [
              0.2222222222222222,
              "#7201a8"
             ],
             [
              0.3333333333333333,
              "#9c179e"
             ],
             [
              0.4444444444444444,
              "#bd3786"
             ],
             [
              0.5555555555555556,
              "#d8576b"
             ],
             [
              0.6666666666666666,
              "#ed7953"
             ],
             [
              0.7777777777777778,
              "#fb9f3a"
             ],
             [
              0.8888888888888888,
              "#fdca26"
             ],
             [
              1,
              "#f0f921"
             ]
            ],
            "type": "surface"
           }
          ],
          "table": [
           {
            "cells": {
             "fill": {
              "color": "#EBF0F8"
             },
             "line": {
              "color": "white"
             }
            },
            "header": {
             "fill": {
              "color": "#C8D4E3"
             },
             "line": {
              "color": "white"
             }
            },
            "type": "table"
           }
          ]
         },
         "layout": {
          "annotationdefaults": {
           "arrowcolor": "#2a3f5f",
           "arrowhead": 0,
           "arrowwidth": 1
          },
          "autotypenumbers": "strict",
          "coloraxis": {
           "colorbar": {
            "outlinewidth": 0,
            "ticks": ""
           }
          },
          "colorscale": {
           "diverging": [
            [
             0,
             "#8e0152"
            ],
            [
             0.1,
             "#c51b7d"
            ],
            [
             0.2,
             "#de77ae"
            ],
            [
             0.3,
             "#f1b6da"
            ],
            [
             0.4,
             "#fde0ef"
            ],
            [
             0.5,
             "#f7f7f7"
            ],
            [
             0.6,
             "#e6f5d0"
            ],
            [
             0.7,
             "#b8e186"
            ],
            [
             0.8,
             "#7fbc41"
            ],
            [
             0.9,
             "#4d9221"
            ],
            [
             1,
             "#276419"
            ]
           ],
           "sequential": [
            [
             0,
             "#0d0887"
            ],
            [
             0.1111111111111111,
             "#46039f"
            ],
            [
             0.2222222222222222,
             "#7201a8"
            ],
            [
             0.3333333333333333,
             "#9c179e"
            ],
            [
             0.4444444444444444,
             "#bd3786"
            ],
            [
             0.5555555555555556,
             "#d8576b"
            ],
            [
             0.6666666666666666,
             "#ed7953"
            ],
            [
             0.7777777777777778,
             "#fb9f3a"
            ],
            [
             0.8888888888888888,
             "#fdca26"
            ],
            [
             1,
             "#f0f921"
            ]
           ],
           "sequentialminus": [
            [
             0,
             "#0d0887"
            ],
            [
             0.1111111111111111,
             "#46039f"
            ],
            [
             0.2222222222222222,
             "#7201a8"
            ],
            [
             0.3333333333333333,
             "#9c179e"
            ],
            [
             0.4444444444444444,
             "#bd3786"
            ],
            [
             0.5555555555555556,
             "#d8576b"
            ],
            [
             0.6666666666666666,
             "#ed7953"
            ],
            [
             0.7777777777777778,
             "#fb9f3a"
            ],
            [
             0.8888888888888888,
             "#fdca26"
            ],
            [
             1,
             "#f0f921"
            ]
           ]
          },
          "colorway": [
           "#636efa",
           "#EF553B",
           "#00cc96",
           "#ab63fa",
           "#FFA15A",
           "#19d3f3",
           "#FF6692",
           "#B6E880",
           "#FF97FF",
           "#FECB52"
          ],
          "font": {
           "color": "#2a3f5f"
          },
          "geo": {
           "bgcolor": "white",
           "lakecolor": "white",
           "landcolor": "#E5ECF6",
           "showlakes": true,
           "showland": true,
           "subunitcolor": "white"
          },
          "hoverlabel": {
           "align": "left"
          },
          "hovermode": "closest",
          "mapbox": {
           "style": "light"
          },
          "paper_bgcolor": "white",
          "plot_bgcolor": "#E5ECF6",
          "polar": {
           "angularaxis": {
            "gridcolor": "white",
            "linecolor": "white",
            "ticks": ""
           },
           "bgcolor": "#E5ECF6",
           "radialaxis": {
            "gridcolor": "white",
            "linecolor": "white",
            "ticks": ""
           }
          },
          "scene": {
           "xaxis": {
            "backgroundcolor": "#E5ECF6",
            "gridcolor": "white",
            "gridwidth": 2,
            "linecolor": "white",
            "showbackground": true,
            "ticks": "",
            "zerolinecolor": "white"
           },
           "yaxis": {
            "backgroundcolor": "#E5ECF6",
            "gridcolor": "white",
            "gridwidth": 2,
            "linecolor": "white",
            "showbackground": true,
            "ticks": "",
            "zerolinecolor": "white"
           },
           "zaxis": {
            "backgroundcolor": "#E5ECF6",
            "gridcolor": "white",
            "gridwidth": 2,
            "linecolor": "white",
            "showbackground": true,
            "ticks": "",
            "zerolinecolor": "white"
           }
          },
          "shapedefaults": {
           "line": {
            "color": "#2a3f5f"
           }
          },
          "ternary": {
           "aaxis": {
            "gridcolor": "white",
            "linecolor": "white",
            "ticks": ""
           },
           "baxis": {
            "gridcolor": "white",
            "linecolor": "white",
            "ticks": ""
           },
           "bgcolor": "#E5ECF6",
           "caxis": {
            "gridcolor": "white",
            "linecolor": "white",
            "ticks": ""
           }
          },
          "title": {
           "x": 0.05
          },
          "xaxis": {
           "automargin": true,
           "gridcolor": "white",
           "linecolor": "white",
           "ticks": "",
           "title": {
            "standoff": 15
           },
           "zerolinecolor": "white",
           "zerolinewidth": 2
          },
          "yaxis": {
           "automargin": true,
           "gridcolor": "white",
           "linecolor": "white",
           "ticks": "",
           "title": {
            "standoff": 15
           },
           "zerolinecolor": "white",
           "zerolinewidth": 2
          }
         }
        }
       }
      }
     },
     "metadata": {},
     "output_type": "display_data"
    }
   ],
   "source": [
    "expected_prices = pd.DataFrame(predicted, columns=['open', 'high', 'low', 'close'])\n",
    "fig = go.Figure(data=[go.Candlestick(\n",
    "                x=expected_prices.index,\n",
    "                open=expected_prices['open'],\n",
    "                high=expected_prices['high'],\n",
    "                low=expected_prices['low'],\n",
    "                close=expected_prices['close'])])\n",
    "fig.show()"
   ]
  },
  {
   "cell_type": "code",
   "execution_count": 8,
   "metadata": {},
   "outputs": [
    {
     "data": {
      "text/plain": [
       "Timestamp('2022-08-07 02:00:00')"
      ]
     },
     "execution_count": 8,
     "metadata": {},
     "output_type": "execute_result"
    }
   ],
   "source": [
    "indexes[1]"
   ]
  },
  {
   "cell_type": "code",
   "execution_count": 9,
   "metadata": {},
   "outputs": [
    {
     "data": {
      "text/plain": [
       "1"
      ]
     },
     "execution_count": 9,
     "metadata": {},
     "output_type": "execute_result"
    }
   ],
   "source": [
    "model.verbose"
   ]
  },
  {
   "cell_type": "code",
   "execution_count": null,
   "metadata": {},
   "outputs": [],
   "source": []
  }
 ],
 "metadata": {
  "kernelspec": {
   "display_name": "Python 3.10.4 ('CRYPTO')",
   "language": "python",
   "name": "python3"
  },
  "language_info": {
   "codemirror_mode": {
    "name": "ipython",
    "version": 3
   },
   "file_extension": ".py",
   "mimetype": "text/x-python",
   "name": "python",
   "nbconvert_exporter": "python",
   "pygments_lexer": "ipython3",
   "version": "3.10.4"
  },
  "orig_nbformat": 4,
  "vscode": {
   "interpreter": {
    "hash": "c52c956929ea9064ac3ecf65401b7521614afbd977fc45d6329a78204b99dacb"
   }
  }
 },
 "nbformat": 4,
 "nbformat_minor": 2
}
